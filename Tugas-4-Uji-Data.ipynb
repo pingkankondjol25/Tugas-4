{
 "cells": [
  {
   "cell_type": "markdown",
   "metadata": {},
   "source": [
    "# MENGUJI DATA SURVEY\n",
    "Membuat uji data dengan test Alpha cronbach, T-test, dan Principal Component Analysis (PCA) menggunakan bahasa R"
   ]
  },
  {
   "cell_type": "markdown",
   "metadata": {},
   "source": [
    "## 1. Uji data menggunakan test Alpha Cronbach"
   ]
  },
  {
   "cell_type": "code",
   "execution_count": 1,
   "metadata": {},
   "outputs": [],
   "source": [
    "mydata<-read.csv('Data2.csv')"
   ]
  },
  {
   "cell_type": "code",
   "execution_count": 2,
   "metadata": {},
   "outputs": [
    {
     "data": {
      "text/html": [
       "<table>\n",
       "<thead><tr><th scope=col>Q1</th><th scope=col>Q2</th><th scope=col>Q3</th><th scope=col>Q4</th><th scope=col>Q5</th><th scope=col>Q6</th><th scope=col>Q7</th><th scope=col>Q8</th><th scope=col>Q9</th><th scope=col>Q10</th></tr></thead>\n",
       "<tbody>\n",
       "\t<tr><td>4</td><td>1</td><td>3</td><td>3</td><td>2</td><td>4</td><td>4</td><td>5</td><td>1</td><td>5</td></tr>\n",
       "\t<tr><td>4</td><td>2</td><td>4</td><td>4</td><td>2</td><td>5</td><td>4</td><td>5</td><td>1</td><td>4</td></tr>\n",
       "\t<tr><td>4</td><td>3</td><td>3</td><td>3</td><td>2</td><td>5</td><td>4</td><td>4</td><td>2</td><td>4</td></tr>\n",
       "\t<tr><td>5</td><td>1</td><td>3</td><td>3</td><td>1</td><td>5</td><td>4</td><td>4</td><td>1</td><td>4</td></tr>\n",
       "\t<tr><td>1</td><td>5</td><td>4</td><td>3</td><td>1</td><td>2</td><td>5</td><td>1</td><td>2</td><td>3</td></tr>\n",
       "\t<tr><td>1</td><td>2</td><td>1</td><td>1</td><td>5</td><td>1</td><td>5</td><td>5</td><td>1</td><td>1</td></tr>\n",
       "</tbody>\n",
       "</table>\n"
      ],
      "text/latex": [
       "\\begin{tabular}{r|llllllllll}\n",
       " Q1 & Q2 & Q3 & Q4 & Q5 & Q6 & Q7 & Q8 & Q9 & Q10\\\\\n",
       "\\hline\n",
       "\t 4 & 1 & 3 & 3 & 2 & 4 & 4 & 5 & 1 & 5\\\\\n",
       "\t 4 & 2 & 4 & 4 & 2 & 5 & 4 & 5 & 1 & 4\\\\\n",
       "\t 4 & 3 & 3 & 3 & 2 & 5 & 4 & 4 & 2 & 4\\\\\n",
       "\t 5 & 1 & 3 & 3 & 1 & 5 & 4 & 4 & 1 & 4\\\\\n",
       "\t 1 & 5 & 4 & 3 & 1 & 2 & 5 & 1 & 2 & 3\\\\\n",
       "\t 1 & 2 & 1 & 1 & 5 & 1 & 5 & 5 & 1 & 1\\\\\n",
       "\\end{tabular}\n"
      ],
      "text/markdown": [
       "\n",
       "| Q1 | Q2 | Q3 | Q4 | Q5 | Q6 | Q7 | Q8 | Q9 | Q10 |\n",
       "|---|---|---|---|---|---|---|---|---|---|\n",
       "| 4 | 1 | 3 | 3 | 2 | 4 | 4 | 5 | 1 | 5 |\n",
       "| 4 | 2 | 4 | 4 | 2 | 5 | 4 | 5 | 1 | 4 |\n",
       "| 4 | 3 | 3 | 3 | 2 | 5 | 4 | 4 | 2 | 4 |\n",
       "| 5 | 1 | 3 | 3 | 1 | 5 | 4 | 4 | 1 | 4 |\n",
       "| 1 | 5 | 4 | 3 | 1 | 2 | 5 | 1 | 2 | 3 |\n",
       "| 1 | 2 | 1 | 1 | 5 | 1 | 5 | 5 | 1 | 1 |\n",
       "\n"
      ],
      "text/plain": [
       "  Q1 Q2 Q3 Q4 Q5 Q6 Q7 Q8 Q9 Q10\n",
       "1 4  1  3  3  2  4  4  5  1  5  \n",
       "2 4  2  4  4  2  5  4  5  1  4  \n",
       "3 4  3  3  3  2  5  4  4  2  4  \n",
       "4 5  1  3  3  1  5  4  4  1  4  \n",
       "5 1  5  4  3  1  2  5  1  2  3  \n",
       "6 1  2  1  1  5  1  5  5  1  1  "
      ]
     },
     "metadata": {},
     "output_type": "display_data"
    }
   ],
   "source": [
    "head(mydata)"
   ]
  },
  {
   "cell_type": "code",
   "execution_count": 3,
   "metadata": {},
   "outputs": [
    {
     "name": "stderr",
     "output_type": "stream",
     "text": [
      "Warning message:\n",
      "\"package 'psych' was built under R version 3.6.3\""
     ]
    }
   ],
   "source": [
    "library('psych')"
   ]
  },
  {
   "cell_type": "code",
   "execution_count": 5,
   "metadata": {},
   "outputs": [
    {
     "name": "stderr",
     "output_type": "stream",
     "text": [
      "Warning message in alpha(mydata):\n",
      "\"Some items were negatively correlated with the total scale and probably \n",
      "should be reversed.  \n",
      "To do this, run the function again with the 'check.keys=TRUE' option\""
     ]
    },
    {
     "name": "stdout",
     "output_type": "stream",
     "text": [
      "Some items ( Q2 Q5 Q9 ) were negatively correlated with the total scale and \n",
      "probably should be reversed.  \n",
      "To do this, run the function again with the 'check.keys=TRUE' option"
     ]
    },
    {
     "data": {
      "text/plain": [
       "\n",
       "Reliability analysis   \n",
       "Call: alpha(x = mydata)\n",
       "\n",
       "  raw_alpha std.alpha G6(smc) average_r  S/N   ase mean  sd median_r\n",
       "      0.32      0.33    0.46     0.046 0.48 0.045  3.1 0.4    0.036\n",
       "\n",
       " lower alpha upper     95% confidence boundaries\n",
       "0.23 0.32 0.4 \n",
       "\n",
       " Reliability if an item is dropped:\n",
       "    raw_alpha std.alpha G6(smc) average_r  S/N alpha se var.r med.r\n",
       "Q1       0.24      0.25    0.41     0.036 0.34    0.051 0.040 0.018\n",
       "Q2       0.32      0.32    0.44     0.049 0.46    0.045 0.038 0.039\n",
       "Q3       0.21      0.20    0.35     0.028 0.26    0.053 0.035 0.018\n",
       "Q4       0.23      0.23    0.37     0.032 0.30    0.051 0.037 0.025\n",
       "Q5       0.42      0.43    0.52     0.076 0.74    0.039 0.038 0.047\n",
       "Q6       0.24      0.25    0.40     0.035 0.33    0.051 0.041 0.018\n",
       "Q7       0.29      0.31    0.43     0.048 0.45    0.047 0.036 0.018\n",
       "Q8       0.32      0.34    0.44     0.054 0.51    0.045 0.033 0.039\n",
       "Q9       0.39      0.40    0.49     0.070 0.68    0.040 0.031 0.069\n",
       "Q10      0.22      0.22    0.38     0.031 0.29    0.052 0.040 0.031\n",
       "\n",
       " Item statistics \n",
       "      n raw.r std.r  r.cor r.drop mean   sd\n",
       "Q1  502  0.48 0.469  0.361  0.218  3.6 1.14\n",
       "Q2  502  0.33 0.346  0.216  0.066  1.6 1.08\n",
       "Q3  502  0.52 0.550  0.538  0.307  3.3 1.00\n",
       "Q4  502  0.47 0.508  0.460  0.257  3.4 0.95\n",
       "Q5  502  0.10 0.087 -0.204 -0.169  2.8 1.08\n",
       "Q6  502  0.48 0.477  0.373  0.236  3.8 1.06\n",
       "Q7  502  0.40 0.356  0.236  0.115  3.6 1.19\n",
       "Q8  502  0.34 0.300  0.173  0.058  3.5 1.14\n",
       "Q9  502  0.12 0.145 -0.055 -0.134  1.5 1.00\n",
       "Q10 502  0.50 0.522  0.453  0.275  3.7 1.02\n",
       "\n",
       "Non missing response frequency for each item\n",
       "       1    2    3    4    5 miss\n",
       "Q1  0.09 0.09 0.16 0.48 0.18    0\n",
       "Q2  0.69 0.10 0.11 0.07 0.02    0\n",
       "Q3  0.06 0.14 0.34 0.38 0.07    0\n",
       "Q4  0.04 0.12 0.33 0.42 0.10    0\n",
       "Q5  0.07 0.40 0.27 0.17 0.09    0\n",
       "Q6  0.04 0.09 0.16 0.46 0.25    0\n",
       "Q7  0.06 0.15 0.15 0.39 0.24    0\n",
       "Q8  0.07 0.14 0.20 0.41 0.19    0\n",
       "Q9  0.74 0.08 0.10 0.07 0.01    0\n",
       "Q10 0.04 0.09 0.20 0.45 0.22    0"
      ]
     },
     "metadata": {},
     "output_type": "display_data"
    },
    {
     "name": "stdout",
     "output_type": "stream",
     "text": [
      "[1] \"Q1  = Menurut anda seorang Programmer harus menguasai minimal 3 bahasa pemrograman\"\n",
      "[1] \"Q2  = Apakah anda pernah mengunakan bahasa python\"\n",
      "[1] \"Q3  = Bahasa pemrograman python lebih mudah untuk digunakan daripada bahasa pemrograman yang lain\"\n",
      "[1] \"Q4  = Menurut anda,apakah Bahasa pemrograman python memiliki readability yang user-friendly daripada bahasa pemrograman java?\"\n",
      "[1] \"Q5  = Seorang programmer boleh menggenalkan bug yang ada di dalam software yang nantinya programmer mendapat keuntungan dalam membetulkan bug\"\n",
      "[1] \"Q6  = Programmer tidak boleh mencuri Software khususnya development tools\"\n",
      "[1] \"Q7  = Software yang dibuat secara tim dapat diperjual belikan tanpa memberitahukan kepada tim sebelumnya\"\n",
      "[1] \"Q8  = Menurut anda apakah software bajakan baik untuk digunakan?\"\n",
      "[1] \"Q9  = Apakah anda pernah mengikuti program sertifikasi untuk software programmer\"\n",
      "[1] \"Q10 = Apakah anda setuju jika seorang Software programmer jika memiliki lebih dari satu sertifikasi maka mendapatkan gaji yang lebih besar\"\n"
     ]
    }
   ],
   "source": [
    "alpha(mydata)\n",
    "print('Q1  = Menurut anda seorang Programmer harus menguasai minimal 3 bahasa pemrograman')\n",
    "print('Q2  = Apakah anda pernah mengunakan bahasa python')\n",
    "print('Q3  = Bahasa pemrograman python lebih mudah untuk digunakan daripada bahasa pemrograman yang lain')\n",
    "print('Q4  = Menurut anda,apakah Bahasa pemrograman python memiliki readability yang user-friendly daripada bahasa pemrograman java?')\n",
    "print('Q5  = Seorang programmer boleh menggenalkan bug yang ada di dalam software yang nantinya programmer mendapat keuntungan dalam membetulkan bug')\n",
    "print('Q6  = Programmer tidak boleh mencuri Software khususnya development tools')\n",
    "print('Q7  = Software yang dibuat secara tim dapat diperjual belikan tanpa memberitahukan kepada tim sebelumnya')\n",
    "print('Q8  = Menurut anda apakah software bajakan baik untuk digunakan?')\n",
    "print('Q9  = Apakah anda pernah mengikuti program sertifikasi untuk software programmer')\n",
    "print('Q10 = Apakah anda setuju jika seorang Software programmer jika memiliki lebih dari satu sertifikasi maka mendapatkan gaji yang lebih besar')"
   ]
  },
  {
   "cell_type": "markdown",
   "metadata": {},
   "source": [
    "## 2. Uji data menggunakan T-test"
   ]
  },
  {
   "cell_type": "code",
   "execution_count": 2,
   "metadata": {},
   "outputs": [],
   "source": [
    "mydata<-read.csv('Data2.csv')"
   ]
  },
  {
   "cell_type": "code",
   "execution_count": 3,
   "metadata": {},
   "outputs": [],
   "source": [
    "attach(mydata)"
   ]
  },
  {
   "cell_type": "code",
   "execution_count": 4,
   "metadata": {},
   "outputs": [
    {
     "data": {
      "text/html": [
       "<ol class=list-inline>\n",
       "\t<li>'Q1'</li>\n",
       "\t<li>'Q2'</li>\n",
       "\t<li>'Q3'</li>\n",
       "\t<li>'Q4'</li>\n",
       "\t<li>'Q5'</li>\n",
       "\t<li>'Q6'</li>\n",
       "\t<li>'Q7'</li>\n",
       "\t<li>'Q8'</li>\n",
       "\t<li>'Q9'</li>\n",
       "\t<li>'Q10'</li>\n",
       "</ol>\n"
      ],
      "text/latex": [
       "\\begin{enumerate*}\n",
       "\\item 'Q1'\n",
       "\\item 'Q2'\n",
       "\\item 'Q3'\n",
       "\\item 'Q4'\n",
       "\\item 'Q5'\n",
       "\\item 'Q6'\n",
       "\\item 'Q7'\n",
       "\\item 'Q8'\n",
       "\\item 'Q9'\n",
       "\\item 'Q10'\n",
       "\\end{enumerate*}\n"
      ],
      "text/markdown": [
       "1. 'Q1'\n",
       "2. 'Q2'\n",
       "3. 'Q3'\n",
       "4. 'Q4'\n",
       "5. 'Q5'\n",
       "6. 'Q6'\n",
       "7. 'Q7'\n",
       "8. 'Q8'\n",
       "9. 'Q9'\n",
       "10. 'Q10'\n",
       "\n",
       "\n"
      ],
      "text/plain": [
       " [1] \"Q1\"  \"Q2\"  \"Q3\"  \"Q4\"  \"Q5\"  \"Q6\"  \"Q7\"  \"Q8\"  \"Q9\"  \"Q10\""
      ]
     },
     "metadata": {},
     "output_type": "display_data"
    }
   ],
   "source": [
    "names(mydata)"
   ]
  },
  {
   "cell_type": "code",
   "execution_count": 5,
   "metadata": {},
   "outputs": [
    {
     "data": {
      "text/html": [
       "<ol class=list-inline>\n",
       "\t<li>502</li>\n",
       "\t<li>10</li>\n",
       "</ol>\n"
      ],
      "text/latex": [
       "\\begin{enumerate*}\n",
       "\\item 502\n",
       "\\item 10\n",
       "\\end{enumerate*}\n"
      ],
      "text/markdown": [
       "1. 502\n",
       "2. 10\n",
       "\n",
       "\n"
      ],
      "text/plain": [
       "[1] 502  10"
      ]
     },
     "metadata": {},
     "output_type": "display_data"
    }
   ],
   "source": [
    "dim(mydata)"
   ]
  },
  {
   "cell_type": "code",
   "execution_count": 8,
   "metadata": {},
   "outputs": [
    {
     "data": {
      "text/plain": [
       "\n",
       "\tPaired t-test\n",
       "\n",
       "data:  Q1 and Q2\n",
       "t = 27.771, df = 501, p-value < 2.2e-16\n",
       "alternative hypothesis: true difference in means is not equal to 0\n",
       "99 percent confidence interval:\n",
       " 1.757785 2.118710\n",
       "sample estimates:\n",
       "mean of the differences \n",
       "               1.938247 \n"
      ]
     },
     "metadata": {},
     "output_type": "display_data"
    }
   ],
   "source": [
    "t.test(Q1, Q2, mu=0, alt=\"two.sided\", paired=T, conf.level=0.99)"
   ]
  },
  {
   "cell_type": "code",
   "execution_count": 9,
   "metadata": {},
   "outputs": [
    {
     "data": {
      "text/plain": [
       "\n",
       "\tPaired t-test\n",
       "\n",
       "data:  Q1 and Q3\n",
       "t = 5.1468, df = 501, p-value = 3.811e-07\n",
       "alternative hypothesis: true difference in means is not equal to 0\n",
       "99 percent confidence interval:\n",
       " 0.1536470 0.4638829\n",
       "sample estimates:\n",
       "mean of the differences \n",
       "              0.3087649 \n"
      ]
     },
     "metadata": {},
     "output_type": "display_data"
    }
   ],
   "source": [
    "t.test(Q1, Q3, mu=0, alt=\"two.sided\", paired=T, conf.level=0.99)"
   ]
  },
  {
   "cell_type": "code",
   "execution_count": 10,
   "metadata": {},
   "outputs": [
    {
     "data": {
      "text/plain": [
       "\n",
       "\tPaired t-test\n",
       "\n",
       "data:  Q1 and Q4\n",
       "t = 2.6831, df = 501, p-value = 0.007536\n",
       "alternative hypothesis: true difference in means is not equal to 0\n",
       "99 percent confidence interval:\n",
       " 0.005785268 0.312939832\n",
       "sample estimates:\n",
       "mean of the differences \n",
       "              0.1593625 \n"
      ]
     },
     "metadata": {},
     "output_type": "display_data"
    }
   ],
   "source": [
    "t.test(Q1, Q4, mu=0, alt=\"two.sided\", paired=T, conf.level=0.99)"
   ]
  },
  {
   "cell_type": "code",
   "execution_count": 11,
   "metadata": {},
   "outputs": [
    {
     "data": {
      "text/plain": [
       "\n",
       "\tPaired t-test\n",
       "\n",
       "data:  Q1 and Q5\n",
       "t = 9.718, df = 501, p-value < 2.2e-16\n",
       "alternative hypothesis: true difference in means is not equal to 0\n",
       "99 percent confidence interval:\n",
       " 0.5614123 0.9684682\n",
       "sample estimates:\n",
       "mean of the differences \n",
       "              0.7649402 \n"
      ]
     },
     "metadata": {},
     "output_type": "display_data"
    }
   ],
   "source": [
    "t.test(Q1, Q5, mu=0, alt=\"two.sided\", paired=T, conf.level=0.99)"
   ]
  },
  {
   "cell_type": "code",
   "execution_count": 12,
   "metadata": {},
   "outputs": [
    {
     "data": {
      "text/plain": [
       "\n",
       "\tPaired t-test\n",
       "\n",
       "data:  Q1 and Q6\n",
       "t = -3.1453, df = 501, p-value = 0.001758\n",
       "alternative hypothesis: true difference in means is not equal to 0\n",
       "99 percent confidence interval:\n",
       " -0.35570475 -0.03473349\n",
       "sample estimates:\n",
       "mean of the differences \n",
       "             -0.1952191 \n"
      ]
     },
     "metadata": {},
     "output_type": "display_data"
    }
   ],
   "source": [
    "t.test(Q1, Q6, mu=0, alt=\"two.sided\", paired=T, conf.level=0.99)"
   ]
  },
  {
   "cell_type": "code",
   "execution_count": 13,
   "metadata": {},
   "outputs": [
    {
     "data": {
      "text/plain": [
       "\n",
       "\tPaired t-test\n",
       "\n",
       "data:  Q1 and Q7\n",
       "t = -0.34727, df = 501, p-value = 0.7285\n",
       "alternative hypothesis: true difference in means is not equal to 0\n",
       "99 percent confidence interval:\n",
       " -0.2018919  0.1540832\n",
       "sample estimates:\n",
       "mean of the differences \n",
       "            -0.02390438 \n"
      ]
     },
     "metadata": {},
     "output_type": "display_data"
    }
   ],
   "source": [
    "t.test(Q1, Q7, mu=0, alt=\"two.sided\", paired=T, conf.level=0.99)"
   ]
  },
  {
   "cell_type": "code",
   "execution_count": 14,
   "metadata": {},
   "outputs": [
    {
     "data": {
      "text/plain": [
       "\n",
       "\tPaired t-test\n",
       "\n",
       "data:  Q1 and Q8\n",
       "t = 0.8877, df = 501, p-value = 0.3751\n",
       "alternative hypothesis: true difference in means is not equal to 0\n",
       "99 percent confidence interval:\n",
       " -0.1181193  0.2416253\n",
       "sample estimates:\n",
       "mean of the differences \n",
       "             0.06175299 \n"
      ]
     },
     "metadata": {},
     "output_type": "display_data"
    }
   ],
   "source": [
    "t.test(Q1, Q8, mu=0, alt=\"two.sided\", paired=T, conf.level=0.99)"
   ]
  },
  {
   "cell_type": "code",
   "execution_count": 15,
   "metadata": {},
   "outputs": [
    {
     "data": {
      "text/plain": [
       "\n",
       "\tPaired t-test\n",
       "\n",
       "data:  Q1 and Q9\n",
       "t = 29.586, df = 501, p-value < 2.2e-16\n",
       "alternative hypothesis: true difference in means is not equal to 0\n",
       "99 percent confidence interval:\n",
       " 1.868843 2.226775\n",
       "sample estimates:\n",
       "mean of the differences \n",
       "               2.047809 \n"
      ]
     },
     "metadata": {},
     "output_type": "display_data"
    }
   ],
   "source": [
    "t.test(Q1, Q9, mu=0, alt=\"two.sided\", paired=T, conf.level=0.99)"
   ]
  },
  {
   "cell_type": "code",
   "execution_count": 16,
   "metadata": {},
   "outputs": [
    {
     "data": {
      "text/plain": [
       "\n",
       "\tPaired t-test\n",
       "\n",
       "data:  Q1 and Q10\n",
       "t = -2.5653, df = 501, p-value = 0.0106\n",
       "alternative hypothesis: true difference in means is not equal to 0\n",
       "99 percent confidence interval:\n",
       " -0.307993500  0.001220591\n",
       "sample estimates:\n",
       "mean of the differences \n",
       "             -0.1533865 \n"
      ]
     },
     "metadata": {},
     "output_type": "display_data"
    }
   ],
   "source": [
    "t.test(Q1, Q10, mu=0, alt=\"two.sided\", paired=T, conf.level=0.99)"
   ]
  },
  {
   "cell_type": "code",
   "execution_count": 17,
   "metadata": {},
   "outputs": [
    {
     "data": {
      "text/plain": [
       "\n",
       "\tPaired t-test\n",
       "\n",
       "data:  Q2 and Q3\n",
       "t = -26.36, df = 501, p-value < 2.2e-16\n",
       "alternative hypothesis: true difference in means is not equal to 0\n",
       "99 percent confidence interval:\n",
       " -1.789322 -1.469642\n",
       "sample estimates:\n",
       "mean of the differences \n",
       "              -1.629482 \n"
      ]
     },
     "metadata": {},
     "output_type": "display_data"
    }
   ],
   "source": [
    "t.test(Q2, Q3, mu=0, alt=\"two.sided\", paired=T, conf.level=0.99)"
   ]
  },
  {
   "cell_type": "code",
   "execution_count": 18,
   "metadata": {},
   "outputs": [
    {
     "data": {
      "text/plain": [
       "\n",
       "\tPaired t-test\n",
       "\n",
       "data:  Q2 and Q4\n",
       "t = -28.433, df = 501, p-value < 2.2e-16\n",
       "alternative hypothesis: true difference in means is not equal to 0\n",
       "99 percent confidence interval:\n",
       " -1.940656 -1.617113\n",
       "sample estimates:\n",
       "mean of the differences \n",
       "              -1.778884 \n"
      ]
     },
     "metadata": {},
     "output_type": "display_data"
    }
   ],
   "source": [
    "t.test(Q2, Q4, mu=0, alt=\"two.sided\", paired=T, conf.level=0.99)"
   ]
  },
  {
   "cell_type": "code",
   "execution_count": 19,
   "metadata": {},
   "outputs": [
    {
     "data": {
      "text/plain": [
       "\n",
       "\tPaired t-test\n",
       "\n",
       "data:  Q2 and Q5\n",
       "t = -17.856, df = 501, p-value < 2.2e-16\n",
       "alternative hypothesis: true difference in means is not equal to 0\n",
       "99 percent confidence interval:\n",
       " -1.343211 -1.003403\n",
       "sample estimates:\n",
       "mean of the differences \n",
       "              -1.173307 \n"
      ]
     },
     "metadata": {},
     "output_type": "display_data"
    }
   ],
   "source": [
    "t.test(Q2, Q5, mu=0, alt=\"two.sided\", paired=T, conf.level=0.99)"
   ]
  },
  {
   "cell_type": "code",
   "execution_count": 20,
   "metadata": {},
   "outputs": [
    {
     "data": {
      "text/plain": [
       "\n",
       "\tPaired t-test\n",
       "\n",
       "data:  Q2 and Q6\n",
       "t = -31.094, df = 501, p-value < 2.2e-16\n",
       "alternative hypothesis: true difference in means is not equal to 0\n",
       "99 percent confidence interval:\n",
       " -2.310881 -1.956051\n",
       "sample estimates:\n",
       "mean of the differences \n",
       "              -2.133466 \n"
      ]
     },
     "metadata": {},
     "output_type": "display_data"
    }
   ],
   "source": [
    "t.test(Q2, Q6, mu=0, alt=\"two.sided\", paired=T, conf.level=0.99)"
   ]
  },
  {
   "cell_type": "code",
   "execution_count": 21,
   "metadata": {},
   "outputs": [
    {
     "data": {
      "text/plain": [
       "\n",
       "\tPaired t-test\n",
       "\n",
       "data:  Q2 and Q7\n",
       "t = -25.75, df = 501, p-value < 2.2e-16\n",
       "alternative hypothesis: true difference in means is not equal to 0\n",
       "99 percent confidence interval:\n",
       " -2.159177 -1.765126\n",
       "sample estimates:\n",
       "mean of the differences \n",
       "              -1.962151 \n"
      ]
     },
     "metadata": {},
     "output_type": "display_data"
    }
   ],
   "source": [
    "t.test(Q2, Q7, mu=0, alt=\"two.sided\", paired=T, conf.level=0.99)"
   ]
  },
  {
   "cell_type": "code",
   "execution_count": 22,
   "metadata": {},
   "outputs": [
    {
     "data": {
      "text/plain": [
       "\n",
       "\tPaired t-test\n",
       "\n",
       "data:  Q2 and Q8\n",
       "t = -24.056, df = 501, p-value < 2.2e-16\n",
       "alternative hypothesis: true difference in means is not equal to 0\n",
       "99 percent confidence interval:\n",
       " -2.078190 -1.674798\n",
       "sample estimates:\n",
       "mean of the differences \n",
       "              -1.876494 \n"
      ]
     },
     "metadata": {},
     "output_type": "display_data"
    }
   ],
   "source": [
    "t.test(Q2, Q8, mu=0, alt=\"two.sided\", paired=T, conf.level=0.99)"
   ]
  },
  {
   "cell_type": "code",
   "execution_count": 23,
   "metadata": {},
   "outputs": [
    {
     "data": {
      "text/plain": [
       "\n",
       "\tPaired t-test\n",
       "\n",
       "data:  Q2 and Q9\n",
       "t = 2.2488, df = 501, p-value = 0.02496\n",
       "alternative hypothesis: true difference in means is not equal to 0\n",
       "99 percent confidence interval:\n",
       " -0.01641241  0.23553591\n",
       "sample estimates:\n",
       "mean of the differences \n",
       "              0.1095618 \n"
      ]
     },
     "metadata": {},
     "output_type": "display_data"
    }
   ],
   "source": [
    "t.test(Q2, Q9, mu=0, alt=\"two.sided\", paired=T, conf.level=0.99)"
   ]
  },
  {
   "cell_type": "code",
   "execution_count": 24,
   "metadata": {},
   "outputs": [
    {
     "data": {
      "text/plain": [
       "\n",
       "\tPaired t-test\n",
       "\n",
       "data:  Q2 and Q10\n",
       "t = -31.746, df = 501, p-value < 2.2e-16\n",
       "alternative hypothesis: true difference in means is not equal to 0\n",
       "99 percent confidence interval:\n",
       " -2.261995 -1.921272\n",
       "sample estimates:\n",
       "mean of the differences \n",
       "              -2.091633 \n"
      ]
     },
     "metadata": {},
     "output_type": "display_data"
    }
   ],
   "source": [
    "t.test(Q2, Q10, mu=0, alt=\"two.sided\", paired=T, conf.level=0.99)"
   ]
  },
  {
   "cell_type": "code",
   "execution_count": 27,
   "metadata": {},
   "outputs": [
    {
     "data": {
      "text/plain": [
       "\n",
       "\tPaired t-test\n",
       "\n",
       "data:  Q3 and Q4\n",
       "t = -3.3249, df = 501, p-value = 0.0009492\n",
       "alternative hypothesis: true difference in means is not equal to 0\n",
       "99 percent confidence interval:\n",
       " -0.26558680 -0.03321798\n",
       "sample estimates:\n",
       "mean of the differences \n",
       "             -0.1494024 \n"
      ]
     },
     "metadata": {},
     "output_type": "display_data"
    }
   ],
   "source": [
    "t.test(Q3, Q4, mu=0, alt=\"two.sided\", paired=T, conf.level=0.99)"
   ]
  },
  {
   "cell_type": "code",
   "execution_count": 29,
   "metadata": {},
   "outputs": [
    {
     "data": {
      "text/plain": [
       "\n",
       "\tPaired t-test\n",
       "\n",
       "data:  Q3 and Q5\n",
       "t = 6.2907, df = 501, p-value = 6.896e-10\n",
       "alternative hypothesis: true difference in means is not equal to 0\n",
       "99 percent confidence interval:\n",
       " 0.2686726 0.6436780\n",
       "sample estimates:\n",
       "mean of the differences \n",
       "              0.4561753 \n"
      ]
     },
     "metadata": {},
     "output_type": "display_data"
    }
   ],
   "source": [
    "t.test(Q3, Q5, mu=0, alt=\"two.sided\", paired=T, conf.level=0.99)"
   ]
  },
  {
   "cell_type": "code",
   "execution_count": 30,
   "metadata": {},
   "outputs": [
    {
     "data": {
      "text/plain": [
       "\n",
       "\tPaired t-test\n",
       "\n",
       "data:  Q3 and Q6\n",
       "t = -8.7129, df = 501, p-value < 2.2e-16\n",
       "alternative hypothesis: true difference in means is not equal to 0\n",
       "99 percent confidence interval:\n",
       " -0.6535486 -0.3544195\n",
       "sample estimates:\n",
       "mean of the differences \n",
       "             -0.5039841 \n"
      ]
     },
     "metadata": {},
     "output_type": "display_data"
    }
   ],
   "source": [
    "t.test(Q3, Q6, mu=0, alt=\"two.sided\", paired=T, conf.level=0.99)"
   ]
  },
  {
   "cell_type": "code",
   "execution_count": 31,
   "metadata": {},
   "outputs": [
    {
     "data": {
      "text/plain": [
       "\n",
       "\tPaired t-test\n",
       "\n",
       "data:  Q3 and Q7\n",
       "t = -4.9123, df = 501, p-value = 1.221e-06\n",
       "alternative hypothesis: true difference in means is not equal to 0\n",
       "99 percent confidence interval:\n",
       " -0.5077757 -0.1575629\n",
       "sample estimates:\n",
       "mean of the differences \n",
       "             -0.3326693 \n"
      ]
     },
     "metadata": {},
     "output_type": "display_data"
    }
   ],
   "source": [
    "t.test(Q3, Q7, mu=0, alt=\"two.sided\", paired=T, conf.level=0.99)"
   ]
  },
  {
   "cell_type": "code",
   "execution_count": 32,
   "metadata": {},
   "outputs": [
    {
     "data": {
      "text/plain": [
       "\n",
       "\tPaired t-test\n",
       "\n",
       "data:  Q3 and Q8\n",
       "t = -3.6667, df = 501, p-value = 0.000272\n",
       "alternative hypothesis: true difference in means is not equal to 0\n",
       "99 percent confidence interval:\n",
       " -0.42119948 -0.07282442\n",
       "sample estimates:\n",
       "mean of the differences \n",
       "              -0.247012 \n"
      ]
     },
     "metadata": {},
     "output_type": "display_data"
    }
   ],
   "source": [
    "t.test(Q3, Q8, mu=0, alt=\"two.sided\", paired=T, conf.level=0.99)"
   ]
  },
  {
   "cell_type": "code",
   "execution_count": 33,
   "metadata": {},
   "outputs": [
    {
     "data": {
      "text/plain": [
       "\n",
       "\tPaired t-test\n",
       "\n",
       "data:  Q3 and Q9\n",
       "t = 26.828, df = 501, p-value < 2.2e-16\n",
       "alternative hypothesis: true difference in means is not equal to 0\n",
       "99 percent confidence interval:\n",
       " 1.571433 1.906655\n",
       "sample estimates:\n",
       "mean of the differences \n",
       "               1.739044 \n"
      ]
     },
     "metadata": {},
     "output_type": "display_data"
    }
   ],
   "source": [
    "t.test(Q3, Q9, mu=0, alt=\"two.sided\", paired=T, conf.level=0.99)"
   ]
  },
  {
   "cell_type": "code",
   "execution_count": 34,
   "metadata": {},
   "outputs": [
    {
     "data": {
      "text/plain": [
       "\n",
       "\tPaired t-test\n",
       "\n",
       "data:  Q3 and Q10\n",
       "t = -8.6811, df = 501, p-value < 2.2e-16\n",
       "alternative hypothesis: true difference in means is not equal to 0\n",
       "99 percent confidence interval:\n",
       " -0.5998031 -0.3244996\n",
       "sample estimates:\n",
       "mean of the differences \n",
       "             -0.4621514 \n"
      ]
     },
     "metadata": {},
     "output_type": "display_data"
    }
   ],
   "source": [
    "t.test(Q3, Q10, mu=0, alt=\"two.sided\", paired=T, conf.level=0.99)"
   ]
  },
  {
   "cell_type": "code",
   "execution_count": 35,
   "metadata": {},
   "outputs": [
    {
     "data": {
      "text/plain": [
       "\n",
       "\tPaired t-test\n",
       "\n",
       "data:  Q4 and Q5\n",
       "t = 8.8413, df = 501, p-value < 2.2e-16\n",
       "alternative hypothesis: true difference in means is not equal to 0\n",
       "99 percent confidence interval:\n",
       " 0.4284742 0.7826812\n",
       "sample estimates:\n",
       "mean of the differences \n",
       "              0.6055777 \n"
      ]
     },
     "metadata": {},
     "output_type": "display_data"
    }
   ],
   "source": [
    "t.test(Q4, Q5, mu=0, alt=\"two.sided\", paired=T, conf.level=0.99)"
   ]
  },
  {
   "cell_type": "code",
   "execution_count": 36,
   "metadata": {},
   "outputs": [
    {
     "data": {
      "text/plain": [
       "\n",
       "\tPaired t-test\n",
       "\n",
       "data:  Q4 and Q6\n",
       "t = -5.9644, df = 501, p-value = 4.643e-09\n",
       "alternative hypothesis: true difference in means is not equal to 0\n",
       "99 percent confidence interval:\n",
       " -0.5083003 -0.2008631\n",
       "sample estimates:\n",
       "mean of the differences \n",
       "             -0.3545817 \n"
      ]
     },
     "metadata": {},
     "output_type": "display_data"
    }
   ],
   "source": [
    "t.test(Q4, Q6, mu=0, alt=\"two.sided\", paired=T, conf.level=0.99)"
   ]
  },
  {
   "cell_type": "code",
   "execution_count": 37,
   "metadata": {},
   "outputs": [
    {
     "data": {
      "text/plain": [
       "\n",
       "\tPaired t-test\n",
       "\n",
       "data:  Q4 and Q7\n",
       "t = -2.6258, df = 501, p-value = 0.008909\n",
       "alternative hypothesis: true difference in means is not equal to 0\n",
       "99 percent confidence interval:\n",
       " -0.363733389 -0.002800476\n",
       "sample estimates:\n",
       "mean of the differences \n",
       "             -0.1832669 \n"
      ]
     },
     "metadata": {},
     "output_type": "display_data"
    }
   ],
   "source": [
    "t.test(Q4, Q7, mu=0, alt=\"two.sided\", paired=T, conf.level=0.99)"
   ]
  },
  {
   "cell_type": "code",
   "execution_count": 38,
   "metadata": {},
   "outputs": [
    {
     "data": {
      "text/plain": [
       "\n",
       "\tPaired t-test\n",
       "\n",
       "data:  Q4 and Q8\n",
       "t = -1.4908, df = 501, p-value = 0.1367\n",
       "alternative hypothesis: true difference in means is not equal to 0\n",
       "99 percent confidence interval:\n",
       " -0.26690952  0.07169039\n",
       "sample estimates:\n",
       "mean of the differences \n",
       "            -0.09760956 \n"
      ]
     },
     "metadata": {},
     "output_type": "display_data"
    }
   ],
   "source": [
    "t.test(Q4, Q8, mu=0, alt=\"two.sided\", paired=T, conf.level=0.99)"
   ]
  },
  {
   "cell_type": "code",
   "execution_count": 39,
   "metadata": {},
   "outputs": [
    {
     "data": {
      "text/plain": [
       "\n",
       "\tPaired t-test\n",
       "\n",
       "data:  Q4 and Q9\n",
       "t = 29.892, df = 501, p-value < 2.2e-16\n",
       "alternative hypothesis: true difference in means is not equal to 0\n",
       "99 percent confidence interval:\n",
       " 1.725097 2.051795\n",
       "sample estimates:\n",
       "mean of the differences \n",
       "               1.888446 \n"
      ]
     },
     "metadata": {},
     "output_type": "display_data"
    }
   ],
   "source": [
    "t.test(Q4, Q9, mu=0, alt=\"two.sided\", paired=T, conf.level=0.99)"
   ]
  },
  {
   "cell_type": "code",
   "execution_count": 40,
   "metadata": {},
   "outputs": [
    {
     "data": {
      "text/plain": [
       "\n",
       "\tPaired t-test\n",
       "\n",
       "data:  Q4 and Q10\n",
       "t = -5.937, df = 501, p-value = 5.427e-09\n",
       "alternative hypothesis: true difference in means is not equal to 0\n",
       "99 percent confidence interval:\n",
       " -0.4489561 -0.1765419\n",
       "sample estimates:\n",
       "mean of the differences \n",
       "              -0.312749 \n"
      ]
     },
     "metadata": {},
     "output_type": "display_data"
    }
   ],
   "source": [
    "t.test(Q4, Q10, mu=0, alt=\"two.sided\", paired=T, conf.level=0.99)"
   ]
  },
  {
   "cell_type": "code",
   "execution_count": 41,
   "metadata": {},
   "outputs": [
    {
     "data": {
      "text/plain": [
       "\n",
       "\tPaired t-test\n",
       "\n",
       "data:  Q5 and Q6\n",
       "t = -12.994, df = 501, p-value < 2.2e-16\n",
       "alternative hypothesis: true difference in means is not equal to 0\n",
       "99 percent confidence interval:\n",
       " -1.1512200 -0.7690988\n",
       "sample estimates:\n",
       "mean of the differences \n",
       "             -0.9601594 \n"
      ]
     },
     "metadata": {},
     "output_type": "display_data"
    }
   ],
   "source": [
    "t.test(Q5, Q6, mu=0, alt=\"two.sided\", paired=T, conf.level=0.99)"
   ]
  },
  {
   "cell_type": "code",
   "execution_count": 42,
   "metadata": {},
   "outputs": [
    {
     "data": {
      "text/plain": [
       "\n",
       "\tPaired t-test\n",
       "\n",
       "data:  Q5 and Q7\n",
       "t = -11.48, df = 501, p-value < 2.2e-16\n",
       "alternative hypothesis: true difference in means is not equal to 0\n",
       "99 percent confidence interval:\n",
       " -0.9665260 -0.6111632\n",
       "sample estimates:\n",
       "mean of the differences \n",
       "             -0.7888446 \n"
      ]
     },
     "metadata": {},
     "output_type": "display_data"
    }
   ],
   "source": [
    "t.test(Q5, Q7, mu=0, alt=\"two.sided\", paired=T, conf.level=0.99)"
   ]
  },
  {
   "cell_type": "code",
   "execution_count": 43,
   "metadata": {},
   "outputs": [
    {
     "data": {
      "text/plain": [
       "\n",
       "\tPaired t-test\n",
       "\n",
       "data:  Q5 and Q8\n",
       "t = -10.506, df = 501, p-value < 2.2e-16\n",
       "alternative hypothesis: true difference in means is not equal to 0\n",
       "99 percent confidence interval:\n",
       " -0.8762575 -0.5301170\n",
       "sample estimates:\n",
       "mean of the differences \n",
       "             -0.7031873 \n"
      ]
     },
     "metadata": {},
     "output_type": "display_data"
    }
   ],
   "source": [
    "t.test(Q5, Q8, mu=0, alt=\"two.sided\", paired=T, conf.level=0.99)"
   ]
  },
  {
   "cell_type": "code",
   "execution_count": 44,
   "metadata": {},
   "outputs": [
    {
     "data": {
      "text/plain": [
       "\n",
       "\tPaired t-test\n",
       "\n",
       "data:  Q5 and Q9\n",
       "t = 19.399, df = 501, p-value < 2.2e-16\n",
       "alternative hypothesis: true difference in means is not equal to 0\n",
       "99 percent confidence interval:\n",
       " 1.111880 1.453857\n",
       "sample estimates:\n",
       "mean of the differences \n",
       "               1.282869 \n"
      ]
     },
     "metadata": {},
     "output_type": "display_data"
    }
   ],
   "source": [
    "t.test(Q5, Q9, mu=0, alt=\"two.sided\", paired=T, conf.level=0.99)"
   ]
  },
  {
   "cell_type": "code",
   "execution_count": 45,
   "metadata": {},
   "outputs": [
    {
     "data": {
      "text/plain": [
       "\n",
       "\tPaired t-test\n",
       "\n",
       "data:  Q5 and Q10\n",
       "t = -13.274, df = 501, p-value < 2.2e-16\n",
       "alternative hypothesis: true difference in means is not equal to 0\n",
       "99 percent confidence interval:\n",
       " -1.0972035 -0.7394499\n",
       "sample estimates:\n",
       "mean of the differences \n",
       "             -0.9183267 \n"
      ]
     },
     "metadata": {},
     "output_type": "display_data"
    }
   ],
   "source": [
    "t.test(Q5, Q10, mu=0, alt=\"two.sided\", paired=T, conf.level=0.99)"
   ]
  },
  {
   "cell_type": "code",
   "execution_count": 46,
   "metadata": {},
   "outputs": [
    {
     "data": {
      "text/plain": [
       "\n",
       "\tPaired t-test\n",
       "\n",
       "data:  Q6 and Q7\n",
       "t = 2.5726, df = 501, p-value = 0.01038\n",
       "alternative hypothesis: true difference in means is not equal to 0\n",
       "99 percent confidence interval:\n",
       " -0.0008693978  0.3434988798\n",
       "sample estimates:\n",
       "mean of the differences \n",
       "              0.1713147 \n"
      ]
     },
     "metadata": {},
     "output_type": "display_data"
    }
   ],
   "source": [
    "t.test(Q6, Q7, mu=0, alt=\"two.sided\", paired=T, conf.level=0.99)"
   ]
  },
  {
   "cell_type": "code",
   "execution_count": 47,
   "metadata": {},
   "outputs": [
    {
     "data": {
      "text/plain": [
       "\n",
       "\tPaired t-test\n",
       "\n",
       "data:  Q6 and Q8\n",
       "t = 4.1044, df = 501, p-value = 4.732e-05\n",
       "alternative hypothesis: true difference in means is not equal to 0\n",
       "99 percent confidence interval:\n",
       " 0.09508612 0.41885811\n",
       "sample estimates:\n",
       "mean of the differences \n",
       "              0.2569721 \n"
      ]
     },
     "metadata": {},
     "output_type": "display_data"
    }
   ],
   "source": [
    "t.test(Q6, Q8, mu=0, alt=\"two.sided\", paired=T, conf.level=0.99)"
   ]
  },
  {
   "cell_type": "code",
   "execution_count": 48,
   "metadata": {},
   "outputs": [
    {
     "data": {
      "text/plain": [
       "\n",
       "\tPaired t-test\n",
       "\n",
       "data:  Q6 and Q9\n",
       "t = 33.667, df = 501, p-value < 2.2e-16\n",
       "alternative hypothesis: true difference in means is not equal to 0\n",
       "99 percent confidence interval:\n",
       " 2.070760 2.415296\n",
       "sample estimates:\n",
       "mean of the differences \n",
       "               2.243028 \n"
      ]
     },
     "metadata": {},
     "output_type": "display_data"
    }
   ],
   "source": [
    "t.test(Q6, Q9, mu=0, alt=\"two.sided\", paired=T, conf.level=0.99)"
   ]
  },
  {
   "cell_type": "code",
   "execution_count": 49,
   "metadata": {},
   "outputs": [
    {
     "data": {
      "text/plain": [
       "\n",
       "\tPaired t-test\n",
       "\n",
       "data:  Q6 and Q10\n",
       "t = 0.73526, df = 501, p-value = 0.4625\n",
       "alternative hypothesis: true difference in means is not equal to 0\n",
       "99 percent confidence interval:\n",
       " -0.1052794  0.1889448\n",
       "sample estimates:\n",
       "mean of the differences \n",
       "             0.04183267 \n"
      ]
     },
     "metadata": {},
     "output_type": "display_data"
    }
   ],
   "source": [
    "t.test(Q6, Q10, mu=0, alt=\"two.sided\", paired=T, conf.level=0.99)"
   ]
  },
  {
   "cell_type": "code",
   "execution_count": 50,
   "metadata": {},
   "outputs": [
    {
     "data": {
      "text/plain": [
       "\n",
       "\tPaired t-test\n",
       "\n",
       "data:  Q7 and Q8\n",
       "t = 1.5777, df = 501, p-value = 0.1153\n",
       "alternative hypothesis: true difference in means is not equal to 0\n",
       "99 percent confidence interval:\n",
       " -0.05472276  0.22603750\n",
       "sample estimates:\n",
       "mean of the differences \n",
       "             0.08565737 \n"
      ]
     },
     "metadata": {},
     "output_type": "display_data"
    }
   ],
   "source": [
    "t.test(Q7, Q8, mu=0, alt=\"two.sided\", paired=T, conf.level=0.99)"
   ]
  },
  {
   "cell_type": "code",
   "execution_count": 51,
   "metadata": {},
   "outputs": [
    {
     "data": {
      "text/plain": [
       "\n",
       "\tPaired t-test\n",
       "\n",
       "data:  Q7 and Q9\n",
       "t = 26.06, df = 501, p-value < 2.2e-16\n",
       "alternative hypothesis: true difference in means is not equal to 0\n",
       "99 percent confidence interval:\n",
       " 1.866161 2.277266\n",
       "sample estimates:\n",
       "mean of the differences \n",
       "               2.071713 \n"
      ]
     },
     "metadata": {},
     "output_type": "display_data"
    }
   ],
   "source": [
    "t.test(Q7, Q9, mu=0, alt=\"two.sided\", paired=T, conf.level=0.99)"
   ]
  },
  {
   "cell_type": "code",
   "execution_count": 52,
   "metadata": {},
   "outputs": [
    {
     "data": {
      "text/plain": [
       "\n",
       "\tPaired t-test\n",
       "\n",
       "data:  Q7 and Q10\n",
       "t = -1.8867, df = 501, p-value = 0.05978\n",
       "alternative hypothesis: true difference in means is not equal to 0\n",
       "99 percent confidence interval:\n",
       " -0.30693640  0.04797226\n",
       "sample estimates:\n",
       "mean of the differences \n",
       "             -0.1294821 \n"
      ]
     },
     "metadata": {},
     "output_type": "display_data"
    }
   ],
   "source": [
    "t.test(Q7, Q10, mu=0, alt=\"two.sided\", paired=T, conf.level=0.99)"
   ]
  },
  {
   "cell_type": "code",
   "execution_count": 53,
   "metadata": {},
   "outputs": [
    {
     "data": {
      "text/plain": [
       "\n",
       "\tPaired t-test\n",
       "\n",
       "data:  Q8 and Q9\n",
       "t = 25.098, df = 501, p-value < 2.2e-16\n",
       "alternative hypothesis: true difference in means is not equal to 0\n",
       "99 percent confidence interval:\n",
       " 1.781444 2.190668\n",
       "sample estimates:\n",
       "mean of the differences \n",
       "               1.986056 \n"
      ]
     },
     "metadata": {},
     "output_type": "display_data"
    }
   ],
   "source": [
    "t.test(Q8, Q9, mu=0, alt=\"two.sided\", paired=T, conf.level=0.99)"
   ]
  },
  {
   "cell_type": "code",
   "execution_count": 54,
   "metadata": {},
   "outputs": [
    {
     "data": {
      "text/plain": [
       "\n",
       "\tPaired t-test\n",
       "\n",
       "data:  Q8 and Q10\n",
       "t = -3.0507, df = 501, p-value = 0.002404\n",
       "alternative hypothesis: true difference in means is not equal to 0\n",
       "99 percent confidence interval:\n",
       " -0.3974835 -0.0327954\n",
       "sample estimates:\n",
       "mean of the differences \n",
       "             -0.2151394 \n"
      ]
     },
     "metadata": {},
     "output_type": "display_data"
    }
   ],
   "source": [
    "t.test(Q8, Q10, mu=0, alt=\"two.sided\", paired=T, conf.level=0.99)"
   ]
  },
  {
   "cell_type": "code",
   "execution_count": 55,
   "metadata": {},
   "outputs": [
    {
     "data": {
      "text/plain": [
       "\n",
       "\tPaired t-test\n",
       "\n",
       "data:  Q9 and Q10\n",
       "t = -34.285, df = 501, p-value < 2.2e-16\n",
       "alternative hypothesis: true difference in means is not equal to 0\n",
       "99 percent confidence interval:\n",
       " -2.367202 -2.035188\n",
       "sample estimates:\n",
       "mean of the differences \n",
       "              -2.201195 \n"
      ]
     },
     "metadata": {},
     "output_type": "display_data"
    }
   ],
   "source": [
    "t.test(Q9, Q10, mu=0, alt=\"two.sided\", paired=T, conf.level=0.99)"
   ]
  },
  {
   "cell_type": "markdown",
   "metadata": {},
   "source": [
    "## 3. Uji data menggunakan Principal Component Analysis"
   ]
  },
  {
   "cell_type": "code",
   "execution_count": 27,
   "metadata": {},
   "outputs": [],
   "source": [
    "mydata<-read.csv('Data2.csv')"
   ]
  },
  {
   "cell_type": "code",
   "execution_count": 28,
   "metadata": {},
   "outputs": [
    {
     "data": {
      "text/html": [
       "<table>\n",
       "<thead><tr><th scope=col>Q1</th><th scope=col>Q2</th><th scope=col>Q3</th><th scope=col>Q4</th><th scope=col>Q5</th><th scope=col>Q6</th><th scope=col>Q7</th><th scope=col>Q8</th><th scope=col>Q9</th><th scope=col>Q10</th></tr></thead>\n",
       "<tbody>\n",
       "\t<tr><td>4</td><td>1</td><td>3</td><td>3</td><td>2</td><td>4</td><td>4</td><td>5</td><td>1</td><td>5</td></tr>\n",
       "\t<tr><td>4</td><td>2</td><td>4</td><td>4</td><td>2</td><td>5</td><td>4</td><td>5</td><td>1</td><td>4</td></tr>\n",
       "\t<tr><td>4</td><td>3</td><td>3</td><td>3</td><td>2</td><td>5</td><td>4</td><td>4</td><td>2</td><td>4</td></tr>\n",
       "\t<tr><td>5</td><td>1</td><td>3</td><td>3</td><td>1</td><td>5</td><td>4</td><td>4</td><td>1</td><td>4</td></tr>\n",
       "\t<tr><td>1</td><td>5</td><td>4</td><td>3</td><td>1</td><td>2</td><td>5</td><td>1</td><td>2</td><td>3</td></tr>\n",
       "\t<tr><td>1</td><td>2</td><td>1</td><td>1</td><td>5</td><td>1</td><td>5</td><td>5</td><td>1</td><td>1</td></tr>\n",
       "\t<tr><td>1</td><td>1</td><td>2</td><td>1</td><td>3</td><td>5</td><td>5</td><td>5</td><td>1</td><td>1</td></tr>\n",
       "\t<tr><td>4</td><td>1</td><td>3</td><td>3</td><td>3</td><td>4</td><td>5</td><td>3</td><td>1</td><td>3</td></tr>\n",
       "\t<tr><td>2</td><td>3</td><td>1</td><td>4</td><td>2</td><td>4</td><td>1</td><td>5</td><td>3</td><td>1</td></tr>\n",
       "\t<tr><td>4</td><td>1</td><td>3</td><td>3</td><td>2</td><td>5</td><td>5</td><td>3</td><td>2</td><td>4</td></tr>\n",
       "\t<tr><td>3</td><td>1</td><td>3</td><td>3</td><td>3</td><td>4</td><td>4</td><td>3</td><td>1</td><td>4</td></tr>\n",
       "\t<tr><td>5</td><td>1</td><td>4</td><td>4</td><td>1</td><td>5</td><td>1</td><td>1</td><td>1</td><td>4</td></tr>\n",
       "\t<tr><td>4</td><td>2</td><td>4</td><td>4</td><td>2</td><td>4</td><td>5</td><td>2</td><td>2</td><td>5</td></tr>\n",
       "\t<tr><td>5</td><td>4</td><td>4</td><td>4</td><td>3</td><td>4</td><td>4</td><td>3</td><td>1</td><td>5</td></tr>\n",
       "\t<tr><td>4</td><td>1</td><td>2</td><td>2</td><td>5</td><td>5</td><td>5</td><td>5</td><td>1</td><td>1</td></tr>\n",
       "\t<tr><td>1</td><td>1</td><td>4</td><td>4</td><td>4</td><td>2</td><td>4</td><td>2</td><td>1</td><td>4</td></tr>\n",
       "\t<tr><td>4</td><td>1</td><td>2</td><td>2</td><td>3</td><td>4</td><td>5</td><td>4</td><td>1</td><td>3</td></tr>\n",
       "\t<tr><td>5</td><td>1</td><td>4</td><td>2</td><td>4</td><td>2</td><td>3</td><td>1</td><td>1</td><td>5</td></tr>\n",
       "\t<tr><td>3</td><td>2</td><td>3</td><td>3</td><td>3</td><td>3</td><td>4</td><td>3</td><td>1</td><td>3</td></tr>\n",
       "\t<tr><td>4</td><td>2</td><td>3</td><td>3</td><td>2</td><td>4</td><td>5</td><td>3</td><td>1</td><td>4</td></tr>\n",
       "\t<tr><td>4</td><td>2</td><td>3</td><td>3</td><td>3</td><td>4</td><td>4</td><td>3</td><td>1</td><td>4</td></tr>\n",
       "\t<tr><td>4</td><td>4</td><td>4</td><td>4</td><td>2</td><td>5</td><td>5</td><td>5</td><td>1</td><td>5</td></tr>\n",
       "\t<tr><td>4</td><td>1</td><td>2</td><td>3</td><td>2</td><td>5</td><td>5</td><td>5</td><td>1</td><td>4</td></tr>\n",
       "\t<tr><td>4</td><td>2</td><td>4</td><td>3</td><td>3</td><td>3</td><td>4</td><td>1</td><td>1</td><td>5</td></tr>\n",
       "\t<tr><td>4</td><td>1</td><td>4</td><td>4</td><td>1</td><td>4</td><td>5</td><td>3</td><td>1</td><td>4</td></tr>\n",
       "\t<tr><td>5</td><td>1</td><td>4</td><td>4</td><td>2</td><td>4</td><td>5</td><td>5</td><td>1</td><td>4</td></tr>\n",
       "\t<tr><td>4</td><td>1</td><td>3</td><td>3</td><td>1</td><td>5</td><td>5</td><td>5</td><td>1</td><td>4</td></tr>\n",
       "\t<tr><td>5</td><td>3</td><td>4</td><td>4</td><td>3</td><td>5</td><td>5</td><td>4</td><td>1</td><td>4</td></tr>\n",
       "\t<tr><td>4</td><td>1</td><td>4</td><td>4</td><td>2</td><td>5</td><td>1</td><td>3</td><td>1</td><td>4</td></tr>\n",
       "\t<tr><td>4</td><td>3</td><td>3</td><td>3</td><td>2</td><td>4</td><td>4</td><td>4</td><td>1</td><td>3</td></tr>\n",
       "\t<tr><td>...</td><td>...</td><td>...</td><td>...</td><td>...</td><td>...</td><td>...</td><td>...</td><td>...</td><td>...</td></tr>\n",
       "\t<tr><td>4</td><td>1</td><td>4</td><td>4</td><td>2</td><td>4</td><td>2</td><td>4</td><td>1</td><td>4</td></tr>\n",
       "\t<tr><td>4</td><td>1</td><td>4</td><td>4</td><td>2</td><td>4</td><td>2</td><td>4</td><td>1</td><td>4</td></tr>\n",
       "\t<tr><td>4</td><td>1</td><td>4</td><td>4</td><td>2</td><td>4</td><td>4</td><td>4</td><td>1</td><td>4</td></tr>\n",
       "\t<tr><td>4</td><td>1</td><td>4</td><td>4</td><td>2</td><td>4</td><td>4</td><td>4</td><td>1</td><td>4</td></tr>\n",
       "\t<tr><td>4</td><td>1</td><td>4</td><td>4</td><td>2</td><td>4</td><td>4</td><td>4</td><td>1</td><td>4</td></tr>\n",
       "\t<tr><td>4</td><td>1</td><td>4</td><td>4</td><td>2</td><td>4</td><td>4</td><td>4</td><td>1</td><td>4</td></tr>\n",
       "\t<tr><td>4</td><td>1</td><td>4</td><td>4</td><td>2</td><td>4</td><td>2</td><td>4</td><td>1</td><td>4</td></tr>\n",
       "\t<tr><td>4</td><td>1</td><td>4</td><td>4</td><td>2</td><td>4</td><td>4</td><td>4</td><td>1</td><td>4</td></tr>\n",
       "\t<tr><td>4</td><td>1</td><td>4</td><td>4</td><td>2</td><td>4</td><td>4</td><td>4</td><td>1</td><td>4</td></tr>\n",
       "\t<tr><td>4</td><td>1</td><td>3</td><td>3</td><td>3</td><td>3</td><td>3</td><td>3</td><td>1</td><td>2</td></tr>\n",
       "\t<tr><td>2</td><td>2</td><td>2</td><td>3</td><td>3</td><td>3</td><td>3</td><td>3</td><td>3</td><td>2</td></tr>\n",
       "\t<tr><td>1</td><td>5</td><td>4</td><td>2</td><td>3</td><td>3</td><td>3</td><td>3</td><td>4</td><td>3</td></tr>\n",
       "\t<tr><td>2</td><td>2</td><td>1</td><td>3</td><td>3</td><td>3</td><td>2</td><td>2</td><td>3</td><td>4</td></tr>\n",
       "\t<tr><td>3</td><td>4</td><td>3</td><td>4</td><td>2</td><td>4</td><td>2</td><td>3</td><td>3</td><td>5</td></tr>\n",
       "\t<tr><td>5</td><td>4</td><td>4</td><td>3</td><td>3</td><td>5</td><td>3</td><td>2</td><td>4</td><td>3</td></tr>\n",
       "\t<tr><td>1</td><td>1</td><td>4</td><td>3</td><td>3</td><td>2</td><td>3</td><td>2</td><td>4</td><td>4</td></tr>\n",
       "\t<tr><td>4</td><td>3</td><td>3</td><td>4</td><td>2</td><td>2</td><td>5</td><td>1</td><td>4</td><td>3</td></tr>\n",
       "\t<tr><td>3</td><td>1</td><td>1</td><td>2</td><td>3</td><td>4</td><td>4</td><td>4</td><td>2</td><td>3</td></tr>\n",
       "\t<tr><td>3</td><td>3</td><td>2</td><td>3</td><td>3</td><td>4</td><td>3</td><td>5</td><td>1</td><td>3</td></tr>\n",
       "\t<tr><td>2</td><td>1</td><td>1</td><td>4</td><td>3</td><td>3</td><td>4</td><td>3</td><td>2</td><td>4</td></tr>\n",
       "\t<tr><td>5</td><td>2</td><td>1</td><td>2</td><td>4</td><td>4</td><td>1</td><td>1</td><td>4</td><td>3</td></tr>\n",
       "\t<tr><td>2</td><td>3</td><td>3</td><td>4</td><td>3</td><td>3</td><td>2</td><td>1</td><td>4</td><td>3</td></tr>\n",
       "\t<tr><td>2</td><td>4</td><td>3</td><td>5</td><td>3</td><td>3</td><td>2</td><td>1</td><td>3</td><td>4</td></tr>\n",
       "\t<tr><td>5</td><td>5</td><td>4</td><td>4</td><td>3</td><td>4</td><td>5</td><td>4</td><td>1</td><td>4</td></tr>\n",
       "\t<tr><td>5</td><td>3</td><td>3</td><td>5</td><td>4</td><td>3</td><td>3</td><td>3</td><td>4</td><td>2</td></tr>\n",
       "\t<tr><td>3</td><td>3</td><td>3</td><td>3</td><td>4</td><td>3</td><td>3</td><td>3</td><td>3</td><td>4</td></tr>\n",
       "\t<tr><td>3</td><td>3</td><td>4</td><td>2</td><td>5</td><td>4</td><td>3</td><td>2</td><td>5</td><td>2</td></tr>\n",
       "\t<tr><td>1</td><td>3</td><td>3</td><td>2</td><td>2</td><td>4</td><td>4</td><td>3</td><td>2</td><td>2</td></tr>\n",
       "\t<tr><td>4</td><td>2</td><td>3</td><td>3</td><td>2</td><td>4</td><td>5</td><td>4</td><td>1</td><td>2</td></tr>\n",
       "\t<tr><td>5</td><td>1</td><td>3</td><td>4</td><td>2</td><td>4</td><td>4</td><td>4</td><td>1</td><td>4</td></tr>\n",
       "</tbody>\n",
       "</table>\n"
      ],
      "text/latex": [
       "\\begin{tabular}{r|llllllllll}\n",
       " Q1 & Q2 & Q3 & Q4 & Q5 & Q6 & Q7 & Q8 & Q9 & Q10\\\\\n",
       "\\hline\n",
       "\t 4 & 1 & 3 & 3 & 2 & 4 & 4 & 5 & 1 & 5\\\\\n",
       "\t 4 & 2 & 4 & 4 & 2 & 5 & 4 & 5 & 1 & 4\\\\\n",
       "\t 4 & 3 & 3 & 3 & 2 & 5 & 4 & 4 & 2 & 4\\\\\n",
       "\t 5 & 1 & 3 & 3 & 1 & 5 & 4 & 4 & 1 & 4\\\\\n",
       "\t 1 & 5 & 4 & 3 & 1 & 2 & 5 & 1 & 2 & 3\\\\\n",
       "\t 1 & 2 & 1 & 1 & 5 & 1 & 5 & 5 & 1 & 1\\\\\n",
       "\t 1 & 1 & 2 & 1 & 3 & 5 & 5 & 5 & 1 & 1\\\\\n",
       "\t 4 & 1 & 3 & 3 & 3 & 4 & 5 & 3 & 1 & 3\\\\\n",
       "\t 2 & 3 & 1 & 4 & 2 & 4 & 1 & 5 & 3 & 1\\\\\n",
       "\t 4 & 1 & 3 & 3 & 2 & 5 & 5 & 3 & 2 & 4\\\\\n",
       "\t 3 & 1 & 3 & 3 & 3 & 4 & 4 & 3 & 1 & 4\\\\\n",
       "\t 5 & 1 & 4 & 4 & 1 & 5 & 1 & 1 & 1 & 4\\\\\n",
       "\t 4 & 2 & 4 & 4 & 2 & 4 & 5 & 2 & 2 & 5\\\\\n",
       "\t 5 & 4 & 4 & 4 & 3 & 4 & 4 & 3 & 1 & 5\\\\\n",
       "\t 4 & 1 & 2 & 2 & 5 & 5 & 5 & 5 & 1 & 1\\\\\n",
       "\t 1 & 1 & 4 & 4 & 4 & 2 & 4 & 2 & 1 & 4\\\\\n",
       "\t 4 & 1 & 2 & 2 & 3 & 4 & 5 & 4 & 1 & 3\\\\\n",
       "\t 5 & 1 & 4 & 2 & 4 & 2 & 3 & 1 & 1 & 5\\\\\n",
       "\t 3 & 2 & 3 & 3 & 3 & 3 & 4 & 3 & 1 & 3\\\\\n",
       "\t 4 & 2 & 3 & 3 & 2 & 4 & 5 & 3 & 1 & 4\\\\\n",
       "\t 4 & 2 & 3 & 3 & 3 & 4 & 4 & 3 & 1 & 4\\\\\n",
       "\t 4 & 4 & 4 & 4 & 2 & 5 & 5 & 5 & 1 & 5\\\\\n",
       "\t 4 & 1 & 2 & 3 & 2 & 5 & 5 & 5 & 1 & 4\\\\\n",
       "\t 4 & 2 & 4 & 3 & 3 & 3 & 4 & 1 & 1 & 5\\\\\n",
       "\t 4 & 1 & 4 & 4 & 1 & 4 & 5 & 3 & 1 & 4\\\\\n",
       "\t 5 & 1 & 4 & 4 & 2 & 4 & 5 & 5 & 1 & 4\\\\\n",
       "\t 4 & 1 & 3 & 3 & 1 & 5 & 5 & 5 & 1 & 4\\\\\n",
       "\t 5 & 3 & 4 & 4 & 3 & 5 & 5 & 4 & 1 & 4\\\\\n",
       "\t 4 & 1 & 4 & 4 & 2 & 5 & 1 & 3 & 1 & 4\\\\\n",
       "\t 4 & 3 & 3 & 3 & 2 & 4 & 4 & 4 & 1 & 3\\\\\n",
       "\t ... & ... & ... & ... & ... & ... & ... & ... & ... & ...\\\\\n",
       "\t 4 & 1 & 4 & 4 & 2 & 4 & 2 & 4 & 1 & 4\\\\\n",
       "\t 4 & 1 & 4 & 4 & 2 & 4 & 2 & 4 & 1 & 4\\\\\n",
       "\t 4 & 1 & 4 & 4 & 2 & 4 & 4 & 4 & 1 & 4\\\\\n",
       "\t 4 & 1 & 4 & 4 & 2 & 4 & 4 & 4 & 1 & 4\\\\\n",
       "\t 4 & 1 & 4 & 4 & 2 & 4 & 4 & 4 & 1 & 4\\\\\n",
       "\t 4 & 1 & 4 & 4 & 2 & 4 & 4 & 4 & 1 & 4\\\\\n",
       "\t 4 & 1 & 4 & 4 & 2 & 4 & 2 & 4 & 1 & 4\\\\\n",
       "\t 4 & 1 & 4 & 4 & 2 & 4 & 4 & 4 & 1 & 4\\\\\n",
       "\t 4 & 1 & 4 & 4 & 2 & 4 & 4 & 4 & 1 & 4\\\\\n",
       "\t 4 & 1 & 3 & 3 & 3 & 3 & 3 & 3 & 1 & 2\\\\\n",
       "\t 2 & 2 & 2 & 3 & 3 & 3 & 3 & 3 & 3 & 2\\\\\n",
       "\t 1 & 5 & 4 & 2 & 3 & 3 & 3 & 3 & 4 & 3\\\\\n",
       "\t 2 & 2 & 1 & 3 & 3 & 3 & 2 & 2 & 3 & 4\\\\\n",
       "\t 3 & 4 & 3 & 4 & 2 & 4 & 2 & 3 & 3 & 5\\\\\n",
       "\t 5 & 4 & 4 & 3 & 3 & 5 & 3 & 2 & 4 & 3\\\\\n",
       "\t 1 & 1 & 4 & 3 & 3 & 2 & 3 & 2 & 4 & 4\\\\\n",
       "\t 4 & 3 & 3 & 4 & 2 & 2 & 5 & 1 & 4 & 3\\\\\n",
       "\t 3 & 1 & 1 & 2 & 3 & 4 & 4 & 4 & 2 & 3\\\\\n",
       "\t 3 & 3 & 2 & 3 & 3 & 4 & 3 & 5 & 1 & 3\\\\\n",
       "\t 2 & 1 & 1 & 4 & 3 & 3 & 4 & 3 & 2 & 4\\\\\n",
       "\t 5 & 2 & 1 & 2 & 4 & 4 & 1 & 1 & 4 & 3\\\\\n",
       "\t 2 & 3 & 3 & 4 & 3 & 3 & 2 & 1 & 4 & 3\\\\\n",
       "\t 2 & 4 & 3 & 5 & 3 & 3 & 2 & 1 & 3 & 4\\\\\n",
       "\t 5 & 5 & 4 & 4 & 3 & 4 & 5 & 4 & 1 & 4\\\\\n",
       "\t 5 & 3 & 3 & 5 & 4 & 3 & 3 & 3 & 4 & 2\\\\\n",
       "\t 3 & 3 & 3 & 3 & 4 & 3 & 3 & 3 & 3 & 4\\\\\n",
       "\t 3 & 3 & 4 & 2 & 5 & 4 & 3 & 2 & 5 & 2\\\\\n",
       "\t 1 & 3 & 3 & 2 & 2 & 4 & 4 & 3 & 2 & 2\\\\\n",
       "\t 4 & 2 & 3 & 3 & 2 & 4 & 5 & 4 & 1 & 2\\\\\n",
       "\t 5 & 1 & 3 & 4 & 2 & 4 & 4 & 4 & 1 & 4\\\\\n",
       "\\end{tabular}\n"
      ],
      "text/markdown": [
       "\n",
       "| Q1 | Q2 | Q3 | Q4 | Q5 | Q6 | Q7 | Q8 | Q9 | Q10 |\n",
       "|---|---|---|---|---|---|---|---|---|---|\n",
       "| 4 | 1 | 3 | 3 | 2 | 4 | 4 | 5 | 1 | 5 |\n",
       "| 4 | 2 | 4 | 4 | 2 | 5 | 4 | 5 | 1 | 4 |\n",
       "| 4 | 3 | 3 | 3 | 2 | 5 | 4 | 4 | 2 | 4 |\n",
       "| 5 | 1 | 3 | 3 | 1 | 5 | 4 | 4 | 1 | 4 |\n",
       "| 1 | 5 | 4 | 3 | 1 | 2 | 5 | 1 | 2 | 3 |\n",
       "| 1 | 2 | 1 | 1 | 5 | 1 | 5 | 5 | 1 | 1 |\n",
       "| 1 | 1 | 2 | 1 | 3 | 5 | 5 | 5 | 1 | 1 |\n",
       "| 4 | 1 | 3 | 3 | 3 | 4 | 5 | 3 | 1 | 3 |\n",
       "| 2 | 3 | 1 | 4 | 2 | 4 | 1 | 5 | 3 | 1 |\n",
       "| 4 | 1 | 3 | 3 | 2 | 5 | 5 | 3 | 2 | 4 |\n",
       "| 3 | 1 | 3 | 3 | 3 | 4 | 4 | 3 | 1 | 4 |\n",
       "| 5 | 1 | 4 | 4 | 1 | 5 | 1 | 1 | 1 | 4 |\n",
       "| 4 | 2 | 4 | 4 | 2 | 4 | 5 | 2 | 2 | 5 |\n",
       "| 5 | 4 | 4 | 4 | 3 | 4 | 4 | 3 | 1 | 5 |\n",
       "| 4 | 1 | 2 | 2 | 5 | 5 | 5 | 5 | 1 | 1 |\n",
       "| 1 | 1 | 4 | 4 | 4 | 2 | 4 | 2 | 1 | 4 |\n",
       "| 4 | 1 | 2 | 2 | 3 | 4 | 5 | 4 | 1 | 3 |\n",
       "| 5 | 1 | 4 | 2 | 4 | 2 | 3 | 1 | 1 | 5 |\n",
       "| 3 | 2 | 3 | 3 | 3 | 3 | 4 | 3 | 1 | 3 |\n",
       "| 4 | 2 | 3 | 3 | 2 | 4 | 5 | 3 | 1 | 4 |\n",
       "| 4 | 2 | 3 | 3 | 3 | 4 | 4 | 3 | 1 | 4 |\n",
       "| 4 | 4 | 4 | 4 | 2 | 5 | 5 | 5 | 1 | 5 |\n",
       "| 4 | 1 | 2 | 3 | 2 | 5 | 5 | 5 | 1 | 4 |\n",
       "| 4 | 2 | 4 | 3 | 3 | 3 | 4 | 1 | 1 | 5 |\n",
       "| 4 | 1 | 4 | 4 | 1 | 4 | 5 | 3 | 1 | 4 |\n",
       "| 5 | 1 | 4 | 4 | 2 | 4 | 5 | 5 | 1 | 4 |\n",
       "| 4 | 1 | 3 | 3 | 1 | 5 | 5 | 5 | 1 | 4 |\n",
       "| 5 | 3 | 4 | 4 | 3 | 5 | 5 | 4 | 1 | 4 |\n",
       "| 4 | 1 | 4 | 4 | 2 | 5 | 1 | 3 | 1 | 4 |\n",
       "| 4 | 3 | 3 | 3 | 2 | 4 | 4 | 4 | 1 | 3 |\n",
       "| ... | ... | ... | ... | ... | ... | ... | ... | ... | ... |\n",
       "| 4 | 1 | 4 | 4 | 2 | 4 | 2 | 4 | 1 | 4 |\n",
       "| 4 | 1 | 4 | 4 | 2 | 4 | 2 | 4 | 1 | 4 |\n",
       "| 4 | 1 | 4 | 4 | 2 | 4 | 4 | 4 | 1 | 4 |\n",
       "| 4 | 1 | 4 | 4 | 2 | 4 | 4 | 4 | 1 | 4 |\n",
       "| 4 | 1 | 4 | 4 | 2 | 4 | 4 | 4 | 1 | 4 |\n",
       "| 4 | 1 | 4 | 4 | 2 | 4 | 4 | 4 | 1 | 4 |\n",
       "| 4 | 1 | 4 | 4 | 2 | 4 | 2 | 4 | 1 | 4 |\n",
       "| 4 | 1 | 4 | 4 | 2 | 4 | 4 | 4 | 1 | 4 |\n",
       "| 4 | 1 | 4 | 4 | 2 | 4 | 4 | 4 | 1 | 4 |\n",
       "| 4 | 1 | 3 | 3 | 3 | 3 | 3 | 3 | 1 | 2 |\n",
       "| 2 | 2 | 2 | 3 | 3 | 3 | 3 | 3 | 3 | 2 |\n",
       "| 1 | 5 | 4 | 2 | 3 | 3 | 3 | 3 | 4 | 3 |\n",
       "| 2 | 2 | 1 | 3 | 3 | 3 | 2 | 2 | 3 | 4 |\n",
       "| 3 | 4 | 3 | 4 | 2 | 4 | 2 | 3 | 3 | 5 |\n",
       "| 5 | 4 | 4 | 3 | 3 | 5 | 3 | 2 | 4 | 3 |\n",
       "| 1 | 1 | 4 | 3 | 3 | 2 | 3 | 2 | 4 | 4 |\n",
       "| 4 | 3 | 3 | 4 | 2 | 2 | 5 | 1 | 4 | 3 |\n",
       "| 3 | 1 | 1 | 2 | 3 | 4 | 4 | 4 | 2 | 3 |\n",
       "| 3 | 3 | 2 | 3 | 3 | 4 | 3 | 5 | 1 | 3 |\n",
       "| 2 | 1 | 1 | 4 | 3 | 3 | 4 | 3 | 2 | 4 |\n",
       "| 5 | 2 | 1 | 2 | 4 | 4 | 1 | 1 | 4 | 3 |\n",
       "| 2 | 3 | 3 | 4 | 3 | 3 | 2 | 1 | 4 | 3 |\n",
       "| 2 | 4 | 3 | 5 | 3 | 3 | 2 | 1 | 3 | 4 |\n",
       "| 5 | 5 | 4 | 4 | 3 | 4 | 5 | 4 | 1 | 4 |\n",
       "| 5 | 3 | 3 | 5 | 4 | 3 | 3 | 3 | 4 | 2 |\n",
       "| 3 | 3 | 3 | 3 | 4 | 3 | 3 | 3 | 3 | 4 |\n",
       "| 3 | 3 | 4 | 2 | 5 | 4 | 3 | 2 | 5 | 2 |\n",
       "| 1 | 3 | 3 | 2 | 2 | 4 | 4 | 3 | 2 | 2 |\n",
       "| 4 | 2 | 3 | 3 | 2 | 4 | 5 | 4 | 1 | 2 |\n",
       "| 5 | 1 | 3 | 4 | 2 | 4 | 4 | 4 | 1 | 4 |\n",
       "\n"
      ],
      "text/plain": [
       "    Q1  Q2  Q3  Q4  Q5  Q6  Q7  Q8  Q9  Q10\n",
       "1   4   1   3   3   2   4   4   5   1   5  \n",
       "2   4   2   4   4   2   5   4   5   1   4  \n",
       "3   4   3   3   3   2   5   4   4   2   4  \n",
       "4   5   1   3   3   1   5   4   4   1   4  \n",
       "5   1   5   4   3   1   2   5   1   2   3  \n",
       "6   1   2   1   1   5   1   5   5   1   1  \n",
       "7   1   1   2   1   3   5   5   5   1   1  \n",
       "8   4   1   3   3   3   4   5   3   1   3  \n",
       "9   2   3   1   4   2   4   1   5   3   1  \n",
       "10  4   1   3   3   2   5   5   3   2   4  \n",
       "11  3   1   3   3   3   4   4   3   1   4  \n",
       "12  5   1   4   4   1   5   1   1   1   4  \n",
       "13  4   2   4   4   2   4   5   2   2   5  \n",
       "14  5   4   4   4   3   4   4   3   1   5  \n",
       "15  4   1   2   2   5   5   5   5   1   1  \n",
       "16  1   1   4   4   4   2   4   2   1   4  \n",
       "17  4   1   2   2   3   4   5   4   1   3  \n",
       "18  5   1   4   2   4   2   3   1   1   5  \n",
       "19  3   2   3   3   3   3   4   3   1   3  \n",
       "20  4   2   3   3   2   4   5   3   1   4  \n",
       "21  4   2   3   3   3   4   4   3   1   4  \n",
       "22  4   4   4   4   2   5   5   5   1   5  \n",
       "23  4   1   2   3   2   5   5   5   1   4  \n",
       "24  4   2   4   3   3   3   4   1   1   5  \n",
       "25  4   1   4   4   1   4   5   3   1   4  \n",
       "26  5   1   4   4   2   4   5   5   1   4  \n",
       "27  4   1   3   3   1   5   5   5   1   4  \n",
       "28  5   3   4   4   3   5   5   4   1   4  \n",
       "29  4   1   4   4   2   5   1   3   1   4  \n",
       "30  4   3   3   3   2   4   4   4   1   3  \n",
       "... ... ... ... ... ... ... ... ... ... ...\n",
       "473 4   1   4   4   2   4   2   4   1   4  \n",
       "474 4   1   4   4   2   4   2   4   1   4  \n",
       "475 4   1   4   4   2   4   4   4   1   4  \n",
       "476 4   1   4   4   2   4   4   4   1   4  \n",
       "477 4   1   4   4   2   4   4   4   1   4  \n",
       "478 4   1   4   4   2   4   4   4   1   4  \n",
       "479 4   1   4   4   2   4   2   4   1   4  \n",
       "480 4   1   4   4   2   4   4   4   1   4  \n",
       "481 4   1   4   4   2   4   4   4   1   4  \n",
       "482 4   1   3   3   3   3   3   3   1   2  \n",
       "483 2   2   2   3   3   3   3   3   3   2  \n",
       "484 1   5   4   2   3   3   3   3   4   3  \n",
       "485 2   2   1   3   3   3   2   2   3   4  \n",
       "486 3   4   3   4   2   4   2   3   3   5  \n",
       "487 5   4   4   3   3   5   3   2   4   3  \n",
       "488 1   1   4   3   3   2   3   2   4   4  \n",
       "489 4   3   3   4   2   2   5   1   4   3  \n",
       "490 3   1   1   2   3   4   4   4   2   3  \n",
       "491 3   3   2   3   3   4   3   5   1   3  \n",
       "492 2   1   1   4   3   3   4   3   2   4  \n",
       "493 5   2   1   2   4   4   1   1   4   3  \n",
       "494 2   3   3   4   3   3   2   1   4   3  \n",
       "495 2   4   3   5   3   3   2   1   3   4  \n",
       "496 5   5   4   4   3   4   5   4   1   4  \n",
       "497 5   3   3   5   4   3   3   3   4   2  \n",
       "498 3   3   3   3   4   3   3   3   3   4  \n",
       "499 3   3   4   2   5   4   3   2   5   2  \n",
       "500 1   3   3   2   2   4   4   3   2   2  \n",
       "501 4   2   3   3   2   4   5   4   1   2  \n",
       "502 5   1   3   4   2   4   4   4   1   4  "
      ]
     },
     "metadata": {},
     "output_type": "display_data"
    }
   ],
   "source": [
    "mydata"
   ]
  },
  {
   "cell_type": "code",
   "execution_count": 31,
   "metadata": {},
   "outputs": [
    {
     "name": "stderr",
     "output_type": "stream",
     "text": [
      "The following objects are masked _by_ .GlobalEnv:\n",
      "\n",
      "    Q1, Q10, Q2, Q3, Q4, Q5, Q6, Q7, Q8, Q9\n",
      "\n",
      "The following objects are masked from mydata (pos = 3):\n",
      "\n",
      "    Q1, Q10, Q2, Q3, Q4, Q5, Q6, Q7, Q8, Q9\n",
      "\n"
     ]
    }
   ],
   "source": [
    "attach(mydata)"
   ]
  },
  {
   "cell_type": "code",
   "execution_count": 32,
   "metadata": {},
   "outputs": [],
   "source": [
    "# Define Variables\n",
    "x <- cbind(Q1,Q2,Q3,Q4,Q5,Q6,Q7,Q8,Q9,Q10)"
   ]
  },
  {
   "cell_type": "code",
   "execution_count": 33,
   "metadata": {},
   "outputs": [
    {
     "data": {
      "text/plain": [
       "       Q1              Q2              Q3              Q4       \n",
       " Min.   :1.000   Min.   :1.000   Min.   :1.000   Min.   :1.000  \n",
       " 1st Qu.:3.000   1st Qu.:1.000   1st Qu.:3.000   1st Qu.:3.000  \n",
       " Median :4.000   Median :1.000   Median :3.000   Median :4.000  \n",
       " Mean   :3.574   Mean   :1.635   Mean   :3.265   Mean   :3.414  \n",
       " 3rd Qu.:4.000   3rd Qu.:2.000   3rd Qu.:4.000   3rd Qu.:4.000  \n",
       " Max.   :5.000   Max.   :5.000   Max.   :5.000   Max.   :5.000  \n",
       "       Q5              Q6              Q7              Q8       \n",
       " Min.   :1.000   Min.   :1.000   Min.   :1.000   Min.   :1.000  \n",
       " 1st Qu.:2.000   1st Qu.:3.000   1st Qu.:3.000   1st Qu.:3.000  \n",
       " Median :3.000   Median :4.000   Median :4.000   Median :4.000  \n",
       " Mean   :2.809   Mean   :3.769   Mean   :3.598   Mean   :3.512  \n",
       " 3rd Qu.:4.000   3rd Qu.:4.000   3rd Qu.:4.000   3rd Qu.:4.000  \n",
       " Max.   :5.000   Max.   :5.000   Max.   :5.000   Max.   :5.000  \n",
       "       Q9             Q10       \n",
       " Min.   :1.000   Min.   :1.000  \n",
       " 1st Qu.:1.000   1st Qu.:3.000  \n",
       " Median :1.000   Median :4.000  \n",
       " Mean   :1.526   Mean   :3.727  \n",
       " 3rd Qu.:2.000   3rd Qu.:4.000  \n",
       " Max.   :5.000   Max.   :5.000  "
      ]
     },
     "metadata": {},
     "output_type": "display_data"
    },
    {
     "data": {
      "text/html": [
       "<table>\n",
       "<thead><tr><th></th><th scope=col>Q1</th><th scope=col>Q2</th><th scope=col>Q3</th><th scope=col>Q4</th><th scope=col>Q5</th><th scope=col>Q6</th><th scope=col>Q7</th><th scope=col>Q8</th><th scope=col>Q9</th><th scope=col>Q10</th></tr></thead>\n",
       "<tbody>\n",
       "\t<tr><th scope=row>Q1</th><td> 1.00000000 </td><td> 0.01129787 </td><td> 0.216672241</td><td> 0.20302132 </td><td>-0.25664279 </td><td> 0.20252821 </td><td> 0.12349500 </td><td> 0.065363856</td><td>-0.040869021</td><td> 0.238411950</td></tr>\n",
       "\t<tr><th scope=row>Q2</th><td> 0.01129787 </td><td> 1.00000000 </td><td> 0.112154288</td><td> 0.05209318 </td><td> 0.07180601 </td><td>-0.03549107 </td><td>-0.13345736 </td><td>-0.242765663</td><td> 0.452294512</td><td> 0.014567882</td></tr>\n",
       "\t<tr><th scope=row>Q3</th><td> 0.21667224 </td><td> 0.11215429 </td><td> 1.000000000</td><td> 0.46686461 </td><td>-0.22145198 </td><td> 0.20420013 </td><td> 0.04139664 </td><td> 0.003365176</td><td>-0.055837538</td><td> 0.302232429</td></tr>\n",
       "\t<tr><th scope=row>Q4</th><td> 0.20302132 </td><td> 0.05209318 </td><td> 0.466864607</td><td> 1.00000000 </td><td>-0.13621467 </td><td> 0.12320150 </td><td>-0.05888883 </td><td> 0.021241639</td><td>-0.048940638</td><td> 0.286716958</td></tr>\n",
       "\t<tr><th scope=row>Q5</th><td>-0.25664279 </td><td> 0.07180601 </td><td>-0.221451978</td><td>-0.13621467 </td><td> 1.00000000 </td><td>-0.19952846 </td><td> 0.07996329 </td><td> 0.086311840</td><td>-0.010157620</td><td>-0.085234253</td></tr>\n",
       "\t<tr><th scope=row>Q6</th><td> 0.20252821 </td><td>-0.03549107 </td><td> 0.204200132</td><td> 0.12320150 </td><td>-0.19952846 </td><td> 1.00000000 </td><td> 0.11839474 </td><td> 0.183458663</td><td>-0.050893633</td><td> 0.248271866</td></tr>\n",
       "\t<tr><th scope=row>Q7</th><td> 0.12349500 </td><td>-0.13345736 </td><td> 0.041396638</td><td>-0.05888883 </td><td> 0.07996329 </td><td> 0.11839474 </td><td> 1.00000000 </td><td> 0.452153793</td><td>-0.320365483</td><td> 0.036006972</td></tr>\n",
       "\t<tr><th scope=row>Q8</th><td> 0.06536386 </td><td>-0.24276566 </td><td> 0.003365176</td><td> 0.02124164 </td><td> 0.08631184 </td><td> 0.18345866 </td><td> 0.45215379 </td><td> 1.000000000</td><td>-0.371709544</td><td>-0.068464372</td></tr>\n",
       "\t<tr><th scope=row>Q9</th><td>-0.04086902 </td><td> 0.45229451 </td><td>-0.055837538</td><td>-0.04894064 </td><td>-0.01015762 </td><td>-0.05089363 </td><td>-0.32036548 </td><td>-0.371709544</td><td> 1.000000000</td><td>-0.009648022</td></tr>\n",
       "\t<tr><th scope=row>Q10</th><td> 0.23841195 </td><td> 0.01456788 </td><td> 0.302232429</td><td> 0.28671696 </td><td>-0.08523425 </td><td> 0.24827187 </td><td> 0.03600697 </td><td>-0.068464372</td><td>-0.009648022</td><td> 1.000000000</td></tr>\n",
       "</tbody>\n",
       "</table>\n"
      ],
      "text/latex": [
       "\\begin{tabular}{r|llllllllll}\n",
       "  & Q1 & Q2 & Q3 & Q4 & Q5 & Q6 & Q7 & Q8 & Q9 & Q10\\\\\n",
       "\\hline\n",
       "\tQ1 &  1.00000000  &  0.01129787  &  0.216672241 &  0.20302132  & -0.25664279  &  0.20252821  &  0.12349500  &  0.065363856 & -0.040869021 &  0.238411950\\\\\n",
       "\tQ2 &  0.01129787  &  1.00000000  &  0.112154288 &  0.05209318  &  0.07180601  & -0.03549107  & -0.13345736  & -0.242765663 &  0.452294512 &  0.014567882\\\\\n",
       "\tQ3 &  0.21667224  &  0.11215429  &  1.000000000 &  0.46686461  & -0.22145198  &  0.20420013  &  0.04139664  &  0.003365176 & -0.055837538 &  0.302232429\\\\\n",
       "\tQ4 &  0.20302132  &  0.05209318  &  0.466864607 &  1.00000000  & -0.13621467  &  0.12320150  & -0.05888883  &  0.021241639 & -0.048940638 &  0.286716958\\\\\n",
       "\tQ5 & -0.25664279  &  0.07180601  & -0.221451978 & -0.13621467  &  1.00000000  & -0.19952846  &  0.07996329  &  0.086311840 & -0.010157620 & -0.085234253\\\\\n",
       "\tQ6 &  0.20252821  & -0.03549107  &  0.204200132 &  0.12320150  & -0.19952846  &  1.00000000  &  0.11839474  &  0.183458663 & -0.050893633 &  0.248271866\\\\\n",
       "\tQ7 &  0.12349500  & -0.13345736  &  0.041396638 & -0.05888883  &  0.07996329  &  0.11839474  &  1.00000000  &  0.452153793 & -0.320365483 &  0.036006972\\\\\n",
       "\tQ8 &  0.06536386  & -0.24276566  &  0.003365176 &  0.02124164  &  0.08631184  &  0.18345866  &  0.45215379  &  1.000000000 & -0.371709544 & -0.068464372\\\\\n",
       "\tQ9 & -0.04086902  &  0.45229451  & -0.055837538 & -0.04894064  & -0.01015762  & -0.05089363  & -0.32036548  & -0.371709544 &  1.000000000 & -0.009648022\\\\\n",
       "\tQ10 &  0.23841195  &  0.01456788  &  0.302232429 &  0.28671696  & -0.08523425  &  0.24827187  &  0.03600697  & -0.068464372 & -0.009648022 &  1.000000000\\\\\n",
       "\\end{tabular}\n"
      ],
      "text/markdown": [
       "\n",
       "| <!--/--> | Q1 | Q2 | Q3 | Q4 | Q5 | Q6 | Q7 | Q8 | Q9 | Q10 |\n",
       "|---|---|---|---|---|---|---|---|---|---|---|\n",
       "| Q1 |  1.00000000  |  0.01129787  |  0.216672241 |  0.20302132  | -0.25664279  |  0.20252821  |  0.12349500  |  0.065363856 | -0.040869021 |  0.238411950 |\n",
       "| Q2 |  0.01129787  |  1.00000000  |  0.112154288 |  0.05209318  |  0.07180601  | -0.03549107  | -0.13345736  | -0.242765663 |  0.452294512 |  0.014567882 |\n",
       "| Q3 |  0.21667224  |  0.11215429  |  1.000000000 |  0.46686461  | -0.22145198  |  0.20420013  |  0.04139664  |  0.003365176 | -0.055837538 |  0.302232429 |\n",
       "| Q4 |  0.20302132  |  0.05209318  |  0.466864607 |  1.00000000  | -0.13621467  |  0.12320150  | -0.05888883  |  0.021241639 | -0.048940638 |  0.286716958 |\n",
       "| Q5 | -0.25664279  |  0.07180601  | -0.221451978 | -0.13621467  |  1.00000000  | -0.19952846  |  0.07996329  |  0.086311840 | -0.010157620 | -0.085234253 |\n",
       "| Q6 |  0.20252821  | -0.03549107  |  0.204200132 |  0.12320150  | -0.19952846  |  1.00000000  |  0.11839474  |  0.183458663 | -0.050893633 |  0.248271866 |\n",
       "| Q7 |  0.12349500  | -0.13345736  |  0.041396638 | -0.05888883  |  0.07996329  |  0.11839474  |  1.00000000  |  0.452153793 | -0.320365483 |  0.036006972 |\n",
       "| Q8 |  0.06536386  | -0.24276566  |  0.003365176 |  0.02124164  |  0.08631184  |  0.18345866  |  0.45215379  |  1.000000000 | -0.371709544 | -0.068464372 |\n",
       "| Q9 | -0.04086902  |  0.45229451  | -0.055837538 | -0.04894064  | -0.01015762  | -0.05089363  | -0.32036548  | -0.371709544 |  1.000000000 | -0.009648022 |\n",
       "| Q10 |  0.23841195  |  0.01456788  |  0.302232429 |  0.28671696  | -0.08523425  |  0.24827187  |  0.03600697  | -0.068464372 | -0.009648022 |  1.000000000 |\n",
       "\n"
      ],
      "text/plain": [
       "    Q1          Q2          Q3           Q4          Q5          Q6         \n",
       "Q1   1.00000000  0.01129787  0.216672241  0.20302132 -0.25664279  0.20252821\n",
       "Q2   0.01129787  1.00000000  0.112154288  0.05209318  0.07180601 -0.03549107\n",
       "Q3   0.21667224  0.11215429  1.000000000  0.46686461 -0.22145198  0.20420013\n",
       "Q4   0.20302132  0.05209318  0.466864607  1.00000000 -0.13621467  0.12320150\n",
       "Q5  -0.25664279  0.07180601 -0.221451978 -0.13621467  1.00000000 -0.19952846\n",
       "Q6   0.20252821 -0.03549107  0.204200132  0.12320150 -0.19952846  1.00000000\n",
       "Q7   0.12349500 -0.13345736  0.041396638 -0.05888883  0.07996329  0.11839474\n",
       "Q8   0.06536386 -0.24276566  0.003365176  0.02124164  0.08631184  0.18345866\n",
       "Q9  -0.04086902  0.45229451 -0.055837538 -0.04894064 -0.01015762 -0.05089363\n",
       "Q10  0.23841195  0.01456788  0.302232429  0.28671696 -0.08523425  0.24827187\n",
       "    Q7          Q8           Q9           Q10         \n",
       "Q1   0.12349500  0.065363856 -0.040869021  0.238411950\n",
       "Q2  -0.13345736 -0.242765663  0.452294512  0.014567882\n",
       "Q3   0.04139664  0.003365176 -0.055837538  0.302232429\n",
       "Q4  -0.05888883  0.021241639 -0.048940638  0.286716958\n",
       "Q5   0.07996329  0.086311840 -0.010157620 -0.085234253\n",
       "Q6   0.11839474  0.183458663 -0.050893633  0.248271866\n",
       "Q7   1.00000000  0.452153793 -0.320365483  0.036006972\n",
       "Q8   0.45215379  1.000000000 -0.371709544 -0.068464372\n",
       "Q9  -0.32036548 -0.371709544  1.000000000 -0.009648022\n",
       "Q10  0.03600697 -0.068464372 -0.009648022  1.000000000"
      ]
     },
     "metadata": {},
     "output_type": "display_data"
    }
   ],
   "source": [
    "# Descriptive statistics\n",
    "summary(x)\n",
    "cor(x)"
   ]
  },
  {
   "cell_type": "code",
   "execution_count": 34,
   "metadata": {},
   "outputs": [],
   "source": [
    "# Principal Component Analysis\n",
    "pca <-princomp(x, score=TRUE, cor=TRUE)"
   ]
  },
  {
   "cell_type": "code",
   "execution_count": 35,
   "metadata": {},
   "outputs": [
    {
     "data": {
      "text/plain": [
       "\n",
       "Loadings:\n",
       "    Comp.1 Comp.2 Comp.3 Comp.4 Comp.5 Comp.6 Comp.7 Comp.8 Comp.9 Comp.10\n",
       "Q1   0.377  0.114  0.100  0.357  0.276  0.629  0.414  0.232               \n",
       "Q2  -0.131  0.412 -0.532  0.274  0.269        -0.117  0.142 -0.580        \n",
       "Q3   0.427  0.253 -0.160 -0.282  0.228 -0.231 -0.316  0.375  0.433  0.339 \n",
       "Q4   0.382  0.245 -0.143 -0.488  0.180 -0.129  0.382 -0.333 -0.125 -0.462 \n",
       "Q5  -0.263 -0.191 -0.644 -0.242 -0.305  0.176  0.363  0.329  0.236        \n",
       "Q6   0.369                0.471 -0.453 -0.514  0.210  0.266        -0.238 \n",
       "Q7   0.236 -0.413 -0.371  0.247  0.184  0.157 -0.482 -0.151  0.174 -0.480 \n",
       "Q8   0.239 -0.474 -0.243  0.121  0.168 -0.238  0.287 -0.389         0.566 \n",
       "Q9  -0.251  0.463 -0.165  0.341                      -0.484  0.574        \n",
       "Q10  0.363  0.215 -0.148        -0.637  0.382 -0.261 -0.294 -0.175  0.237 \n",
       "\n",
       "               Comp.1 Comp.2 Comp.3 Comp.4 Comp.5 Comp.6 Comp.7 Comp.8 Comp.9\n",
       "SS loadings       1.0    1.0    1.0    1.0    1.0    1.0    1.0    1.0    1.0\n",
       "Proportion Var    0.1    0.1    0.1    0.1    0.1    0.1    0.1    0.1    0.1\n",
       "Cumulative Var    0.1    0.2    0.3    0.4    0.5    0.6    0.7    0.8    0.9\n",
       "               Comp.10\n",
       "SS loadings        1.0\n",
       "Proportion Var     0.1\n",
       "Cumulative Var     1.0"
      ]
     },
     "metadata": {},
     "output_type": "display_data"
    }
   ],
   "source": [
    "# Loading of Principal Components\n",
    "loadings(pca)"
   ]
  },
  {
   "cell_type": "code",
   "execution_count": 37,
   "metadata": {},
   "outputs": [
    {
     "data": {
      "image/png": "[encoded data removed]",
      "text/plain": [
       "Plot with title \"pca\""
      ]
     },
     "metadata": {},
     "output_type": "display_data"
    },
    {
     "data": {
      "image/png": "[encoded data removed]",
      "text/plain": [
       "Plot with title \"scree plot\""
      ]
     },
     "metadata": {},
     "output_type": "display_data"
    }
   ],
   "source": [
    "# Scree plot of eigenvalues\n",
    "plot(pca)\n",
    "screeplot(pca, type=\"line\", main=\"scree plot\")"
   ]
  },
  {
   "cell_type": "code",
   "execution_count": 40,
   "metadata": {},
   "outputs": [
    {
     "data": {
      "image/png": "[encoded data removed]",
      "text/plain": [
       "plot without title"
      ]
     },
     "metadata": {},
     "output_type": "display_data"
    }
   ],
   "source": [
    "# Biplot of score variables\n",
    "biplot(pca)"
   ]
  },
  {
   "cell_type": "code",
   "execution_count": 41,
   "metadata": {},
   "outputs": [
    {
     "data": {
      "text/html": [
       "<table>\n",
       "<thead><tr><th scope=col>Comp.1</th><th scope=col>Comp.2</th><th scope=col>Comp.3</th><th scope=col>Comp.4</th><th scope=col>Comp.5</th><th scope=col>Comp.6</th><th scope=col>Comp.7</th><th scope=col>Comp.8</th><th scope=col>Comp.9</th><th scope=col>Comp.10</th></tr></thead>\n",
       "<tbody>\n",
       "\t<tr><td> 1.19257533 </td><td>-0.9624164  </td><td> 0.3980937  </td><td> 0.50197805 </td><td>-0.577455571</td><td> 0.411399620</td><td>-0.24815877 </td><td>-0.81254897 </td><td>-0.4295102  </td><td> 0.92153424 </td></tr>\n",
       "\t<tr><td> 1.89551320 </td><td>-0.2578783  </td><td>-0.2518712  </td><td> 0.48797933 </td><td> 0.284311849</td><td>-0.897012671</td><td> 0.18215177 </td><td>-0.11515942 </td><td>-0.4871803  </td><td> 0.38514133 </td></tr>\n",
       "\t<tr><td> 0.48188526 </td><td> 0.4912815  </td><td>-0.3857747  </td><td> 1.77343977 </td><td>-0.031226652</td><td>-0.465602679</td><td>-0.16706774 </td><td>-0.15107899 </td><td>-0.6827019  </td><td> 0.12087292 </td></tr>\n",
       "\t<tr><td> 1.54984827 </td><td>-0.4585983  </td><td> 1.4500335  </td><td> 1.46101714 </td><td>-0.006211607</td><td> 0.147632097</td><td>-0.01973236 </td><td>-0.03232592 </td><td>-0.3245371  </td><td> 0.03834163 </td></tr>\n",
       "\t<tr><td>-1.91371837 </td><td> 2.0146455  </td><td>-0.7537532  </td><td>-0.08311075 </td><td> 1.875692301</td><td>-0.822424678</td><td>-3.63350223 </td><td> 0.00471159 </td><td>-1.2526754  </td><td>-0.95646328 </td></tr>\n",
       "\t<tr><td>-4.57882791 </td><td>-3.6909655  </td><td>-1.2877104  </td><td>-0.06300368 </td><td> 1.200967776</td><td> 0.002497741</td><td>-0.58868729 </td><td>-0.16043900 </td><td>-0.3273647  </td><td> 0.40461396 </td></tr>\n",
       "\t<tr><td>-2.14408163 </td><td>-3.3790366  </td><td> 0.2740773  </td><td> 1.63278029 </td><td> 0.027414642</td><td>-2.425375389</td><td>-0.67314773 </td><td> 0.48218990 </td><td> 0.2287551  </td><td>-0.15980750 </td></tr>\n",
       "\t<tr><td> 0.01816618 </td><td>-1.0756557  </td><td> 0.2060558  </td><td> 0.43832082 </td><td> 0.246836187</td><td> 0.377446787</td><td>-0.31419328 </td><td> 0.62480597 </td><td> 0.4216055  </td><td>-0.97519450 </td></tr>\n",
       "\t<tr><td>-2.68857062 </td><td> 0.4798356  </td><td> 0.5945759  </td><td> 0.82200674 </td><td> 1.204001957</td><td>-2.545772714</td><td> 2.28346280 </td><td>-1.49360249 </td><td>-1.2644233  </td><td> 0.13913288 </td></tr>\n",
       "\t<tr><td> 0.71478412 </td><td>-0.2036122  </td><td> 0.5014127  </td><td> 1.36701735 </td><td>-0.522553403</td><td> 0.034756801</td><td>-0.60974579 </td><td>-0.19970562 </td><td> 0.6104258  </td><td>-0.91484202 </td></tr>\n",
       "</tbody>\n",
       "</table>\n"
      ],
      "text/latex": [
       "\\begin{tabular}{llllllllll}\n",
       " Comp.1 & Comp.2 & Comp.3 & Comp.4 & Comp.5 & Comp.6 & Comp.7 & Comp.8 & Comp.9 & Comp.10\\\\\n",
       "\\hline\n",
       "\t  1.19257533  & -0.9624164   &  0.3980937   &  0.50197805  & -0.577455571 &  0.411399620 & -0.24815877  & -0.81254897  & -0.4295102   &  0.92153424 \\\\\n",
       "\t  1.89551320  & -0.2578783   & -0.2518712   &  0.48797933  &  0.284311849 & -0.897012671 &  0.18215177  & -0.11515942  & -0.4871803   &  0.38514133 \\\\\n",
       "\t  0.48188526  &  0.4912815   & -0.3857747   &  1.77343977  & -0.031226652 & -0.465602679 & -0.16706774  & -0.15107899  & -0.6827019   &  0.12087292 \\\\\n",
       "\t  1.54984827  & -0.4585983   &  1.4500335   &  1.46101714  & -0.006211607 &  0.147632097 & -0.01973236  & -0.03232592  & -0.3245371   &  0.03834163 \\\\\n",
       "\t -1.91371837  &  2.0146455   & -0.7537532   & -0.08311075  &  1.875692301 & -0.822424678 & -3.63350223  &  0.00471159  & -1.2526754   & -0.95646328 \\\\\n",
       "\t -4.57882791  & -3.6909655   & -1.2877104   & -0.06300368  &  1.200967776 &  0.002497741 & -0.58868729  & -0.16043900  & -0.3273647   &  0.40461396 \\\\\n",
       "\t -2.14408163  & -3.3790366   &  0.2740773   &  1.63278029  &  0.027414642 & -2.425375389 & -0.67314773  &  0.48218990  &  0.2287551   & -0.15980750 \\\\\n",
       "\t  0.01816618  & -1.0756557   &  0.2060558   &  0.43832082  &  0.246836187 &  0.377446787 & -0.31419328  &  0.62480597  &  0.4216055   & -0.97519450 \\\\\n",
       "\t -2.68857062  &  0.4798356   &  0.5945759   &  0.82200674  &  1.204001957 & -2.545772714 &  2.28346280  & -1.49360249  & -1.2644233   &  0.13913288 \\\\\n",
       "\t  0.71478412  & -0.2036122   &  0.5014127   &  1.36701735  & -0.522553403 &  0.034756801 & -0.60974579  & -0.19970562  &  0.6104258   & -0.91484202 \\\\\n",
       "\\end{tabular}\n"
      ],
      "text/markdown": [
       "\n",
       "| Comp.1 | Comp.2 | Comp.3 | Comp.4 | Comp.5 | Comp.6 | Comp.7 | Comp.8 | Comp.9 | Comp.10 |\n",
       "|---|---|---|---|---|---|---|---|---|---|\n",
       "|  1.19257533  | -0.9624164   |  0.3980937   |  0.50197805  | -0.577455571 |  0.411399620 | -0.24815877  | -0.81254897  | -0.4295102   |  0.92153424  |\n",
       "|  1.89551320  | -0.2578783   | -0.2518712   |  0.48797933  |  0.284311849 | -0.897012671 |  0.18215177  | -0.11515942  | -0.4871803   |  0.38514133  |\n",
       "|  0.48188526  |  0.4912815   | -0.3857747   |  1.77343977  | -0.031226652 | -0.465602679 | -0.16706774  | -0.15107899  | -0.6827019   |  0.12087292  |\n",
       "|  1.54984827  | -0.4585983   |  1.4500335   |  1.46101714  | -0.006211607 |  0.147632097 | -0.01973236  | -0.03232592  | -0.3245371   |  0.03834163  |\n",
       "| -1.91371837  |  2.0146455   | -0.7537532   | -0.08311075  |  1.875692301 | -0.822424678 | -3.63350223  |  0.00471159  | -1.2526754   | -0.95646328  |\n",
       "| -4.57882791  | -3.6909655   | -1.2877104   | -0.06300368  |  1.200967776 |  0.002497741 | -0.58868729  | -0.16043900  | -0.3273647   |  0.40461396  |\n",
       "| -2.14408163  | -3.3790366   |  0.2740773   |  1.63278029  |  0.027414642 | -2.425375389 | -0.67314773  |  0.48218990  |  0.2287551   | -0.15980750  |\n",
       "|  0.01816618  | -1.0756557   |  0.2060558   |  0.43832082  |  0.246836187 |  0.377446787 | -0.31419328  |  0.62480597  |  0.4216055   | -0.97519450  |\n",
       "| -2.68857062  |  0.4798356   |  0.5945759   |  0.82200674  |  1.204001957 | -2.545772714 |  2.28346280  | -1.49360249  | -1.2644233   |  0.13913288  |\n",
       "|  0.71478412  | -0.2036122   |  0.5014127   |  1.36701735  | -0.522553403 |  0.034756801 | -0.60974579  | -0.19970562  |  0.6104258   | -0.91484202  |\n",
       "\n"
      ],
      "text/plain": [
       "      Comp.1      Comp.2     Comp.3     Comp.4      Comp.5       Comp.6      \n",
       " [1,]  1.19257533 -0.9624164  0.3980937  0.50197805 -0.577455571  0.411399620\n",
       " [2,]  1.89551320 -0.2578783 -0.2518712  0.48797933  0.284311849 -0.897012671\n",
       " [3,]  0.48188526  0.4912815 -0.3857747  1.77343977 -0.031226652 -0.465602679\n",
       " [4,]  1.54984827 -0.4585983  1.4500335  1.46101714 -0.006211607  0.147632097\n",
       " [5,] -1.91371837  2.0146455 -0.7537532 -0.08311075  1.875692301 -0.822424678\n",
       " [6,] -4.57882791 -3.6909655 -1.2877104 -0.06300368  1.200967776  0.002497741\n",
       " [7,] -2.14408163 -3.3790366  0.2740773  1.63278029  0.027414642 -2.425375389\n",
       " [8,]  0.01816618 -1.0756557  0.2060558  0.43832082  0.246836187  0.377446787\n",
       " [9,] -2.68857062  0.4798356  0.5945759  0.82200674  1.204001957 -2.545772714\n",
       "[10,]  0.71478412 -0.2036122  0.5014127  1.36701735 -0.522553403  0.034756801\n",
       "      Comp.7      Comp.8      Comp.9     Comp.10    \n",
       " [1,] -0.24815877 -0.81254897 -0.4295102  0.92153424\n",
       " [2,]  0.18215177 -0.11515942 -0.4871803  0.38514133\n",
       " [3,] -0.16706774 -0.15107899 -0.6827019  0.12087292\n",
       " [4,] -0.01973236 -0.03232592 -0.3245371  0.03834163\n",
       " [5,] -3.63350223  0.00471159 -1.2526754 -0.95646328\n",
       " [6,] -0.58868729 -0.16043900 -0.3273647  0.40461396\n",
       " [7,] -0.67314773  0.48218990  0.2287551 -0.15980750\n",
       " [8,] -0.31419328  0.62480597  0.4216055 -0.97519450\n",
       " [9,]  2.28346280 -1.49360249 -1.2644233  0.13913288\n",
       "[10,] -0.60974579 -0.19970562  0.6104258 -0.91484202"
      ]
     },
     "metadata": {},
     "output_type": "display_data"
    }
   ],
   "source": [
    "# Scores of the components\n",
    "pca$scores[1:10,]"
   ]
  },
  {
   "cell_type": "code",
   "execution_count": null,
   "metadata": {},
   "outputs": [],
   "source": []
  }
 ],
 "metadata": {
  "hide_input": false,
  "kernelspec": {
   "display_name": "R",
   "language": "R",
   "name": "ir"
  },
  "language_info": {
   "codemirror_mode": "r",
   "file_extension": ".r",
   "mimetype": "text/x-r-source",
   "name": "R",
   "pygments_lexer": "r",
   "version": "3.6.1"
  }
 },
 "nbformat": 4,
 "nbformat_minor": 2
}
